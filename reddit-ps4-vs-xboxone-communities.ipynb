{
 "cells": [
  {
   "cell_type": "code",
   "execution_count": 1,
   "metadata": {
    "execution": {
     "iopub.execute_input": "2021-03-31T13:18:06.400029Z",
     "iopub.status.busy": "2021-03-31T13:18:06.399294Z",
     "iopub.status.idle": "2021-03-31T13:18:06.414817Z",
     "shell.execute_reply": "2021-03-31T13:18:06.413864Z"
    },
    "papermill": {
     "duration": 0.083399,
     "end_time": "2021-03-31T13:18:06.415062",
     "exception": false,
     "start_time": "2021-03-31T13:18:06.331663",
     "status": "completed"
    },
    "tags": []
   },
   "outputs": [
    {
     "name": "stdout",
     "output_type": "stream",
     "text": [
      "/kaggle/input/prawapicollected/praw_dataset.csv\n",
      "['prawapicollected']\n"
     ]
    }
   ],
   "source": [
    "import os\n",
    "for dirname, _, filenames in os.walk('/kaggle/input'):\n",
    "    for filename in filenames:\n",
    "        print(os.path.join(dirname, filename))\n",
    "        \n",
    "        \n",
    "print(os.listdir('/kaggle/input'))"
   ]
  },
  {
   "cell_type": "markdown",
   "metadata": {
    "papermill": {
     "duration": 0.060709,
     "end_time": "2021-03-31T13:18:06.538675",
     "exception": false,
     "start_time": "2021-03-31T13:18:06.477966",
     "status": "completed"
    },
    "tags": []
   },
   "source": [
    "# Comparison of PS4 and Xbox One Communities in Reddit"
   ]
  },
  {
   "cell_type": "markdown",
   "metadata": {
    "papermill": {
     "duration": 0.057348,
     "end_time": "2021-03-31T13:18:06.653558",
     "exception": false,
     "start_time": "2021-03-31T13:18:06.596210",
     "status": "completed"
    },
    "tags": []
   },
   "source": [
    "PS4 and XBOXone are modern gaming gadgets of the same generation. Comparisons of these two competitors are often made among those interested in the technology and gaming industry. Both companies have been in a competition for a long time, releasing each new product in the near future. My aim is to shed light on the factors of this competition and to compare these two communities with each other through various analyzes."
   ]
  },
  {
   "cell_type": "markdown",
   "metadata": {
    "papermill": {
     "duration": 0.061935,
     "end_time": "2021-03-31T13:18:06.775882",
     "exception": false,
     "start_time": "2021-03-31T13:18:06.713947",
     "status": "completed"
    },
    "tags": []
   },
   "source": [
    "As an active user of Reddit, I believe that it is a mature and effective social media platform that consists of user opinions on thousands of different subjects. Also, the comments and reviews in Reddit are mostly considered proffesional or at least knowledgeable, and the users of this community are fairly young and technology oriented. Thats why, I think it is a great platform to test 2 competitors and pioneers in terms of technologic products, ps4 and xboxone in terms of users' sentimental approach, community behaviors and their most frequently mentioned terms."
   ]
  },
  {
   "cell_type": "markdown",
   "metadata": {
    "papermill": {
     "duration": 0.059629,
     "end_time": "2021-03-31T13:18:06.894421",
     "exception": false,
     "start_time": "2021-03-31T13:18:06.834792",
     "status": "completed"
    },
    "tags": []
   },
   "source": [
    "# Data Acquisition"
   ]
  },
  {
   "cell_type": "code",
   "execution_count": 2,
   "metadata": {
    "execution": {
     "iopub.execute_input": "2021-03-31T13:18:07.042460Z",
     "iopub.status.busy": "2021-03-31T13:18:07.026673Z",
     "iopub.status.idle": "2021-03-31T13:18:17.753733Z",
     "shell.execute_reply": "2021-03-31T13:18:17.752798Z"
    },
    "papermill": {
     "duration": 10.795874,
     "end_time": "2021-03-31T13:18:17.753913",
     "exception": false,
     "start_time": "2021-03-31T13:18:06.958039",
     "status": "completed"
    },
    "tags": []
   },
   "outputs": [
    {
     "name": "stdout",
     "output_type": "stream",
     "text": [
      "Collecting praw\r\n",
      "  Downloading praw-7.2.0-py3-none-any.whl (159 kB)\r\n",
      "\u001b[K     |████████████████████████████████| 159 kB 865 kB/s \r\n",
      "\u001b[?25hRequirement already satisfied: update-checker>=0.18 in /opt/conda/lib/python3.7/site-packages (from praw) (0.18.0)\r\n",
      "Requirement already satisfied: websocket-client>=0.54.0 in /opt/conda/lib/python3.7/site-packages (from praw) (0.57.0)\r\n",
      "Collecting prawcore<3,>=2\r\n",
      "  Downloading prawcore-2.0.0-py3-none-any.whl (15 kB)\r\n",
      "Requirement already satisfied: requests<3.0,>=2.6.0 in /opt/conda/lib/python3.7/site-packages (from prawcore<3,>=2->praw) (2.25.1)\r\n",
      "Requirement already satisfied: urllib3<1.27,>=1.21.1 in /opt/conda/lib/python3.7/site-packages (from requests<3.0,>=2.6.0->prawcore<3,>=2->praw) (1.26.2)\r\n",
      "Requirement already satisfied: certifi>=2017.4.17 in /opt/conda/lib/python3.7/site-packages (from requests<3.0,>=2.6.0->prawcore<3,>=2->praw) (2020.12.5)\r\n",
      "Requirement already satisfied: idna<3,>=2.5 in /opt/conda/lib/python3.7/site-packages (from requests<3.0,>=2.6.0->prawcore<3,>=2->praw) (2.10)\r\n",
      "Requirement already satisfied: chardet<5,>=3.0.2 in /opt/conda/lib/python3.7/site-packages (from requests<3.0,>=2.6.0->prawcore<3,>=2->praw) (3.0.4)\r\n",
      "Requirement already satisfied: six in /opt/conda/lib/python3.7/site-packages (from websocket-client>=0.54.0->praw) (1.15.0)\r\n",
      "Installing collected packages: prawcore, praw\r\n",
      "Successfully installed praw-7.2.0 prawcore-2.0.0\r\n"
     ]
    }
   ],
   "source": [
    "!pip install praw\n",
    "import praw\n",
    "from praw.models import MoreComments\n",
    "import json\n",
    "import csv\n",
    "import html\n",
    "from datetime import datetime"
   ]
  },
  {
   "cell_type": "code",
   "execution_count": 3,
   "metadata": {
    "execution": {
     "iopub.execute_input": "2021-03-31T13:18:17.895745Z",
     "iopub.status.busy": "2021-03-31T13:18:17.894631Z",
     "iopub.status.idle": "2021-03-31T13:18:17.898035Z",
     "shell.execute_reply": "2021-03-31T13:18:17.897305Z"
    },
    "papermill": {
     "duration": 0.07382,
     "end_time": "2021-03-31T13:18:17.898286",
     "exception": false,
     "start_time": "2021-03-31T13:18:17.824466",
     "status": "completed"
    },
    "tags": []
   },
   "outputs": [],
   "source": [
    "client_id=\"####\"\n",
    "client_secret=\"####\"\n",
    "password=\"####\"\n",
    "user_agent=\"####\"\n",
    "username=\"####\""
   ]
  },
  {
   "cell_type": "code",
   "execution_count": 4,
   "metadata": {
    "execution": {
     "iopub.execute_input": "2021-03-31T13:18:18.038938Z",
     "iopub.status.busy": "2021-03-31T13:18:18.037728Z",
     "iopub.status.idle": "2021-03-31T13:18:18.183980Z",
     "shell.execute_reply": "2021-03-31T13:18:18.183174Z"
    },
    "papermill": {
     "duration": 0.219313,
     "end_time": "2021-03-31T13:18:18.184154",
     "exception": false,
     "start_time": "2021-03-31T13:18:17.964841",
     "status": "completed"
    },
    "tags": []
   },
   "outputs": [],
   "source": [
    "reddit = praw.Reddit(client_id=client_id, client_secret=client_secret,\n",
    "                     password=password, user_agent=user_agent,\n",
    "                     username=username)"
   ]
  },
  {
   "cell_type": "markdown",
   "metadata": {
    "papermill": {
     "duration": 0.064487,
     "end_time": "2021-03-31T13:18:18.312536",
     "exception": false,
     "start_time": "2021-03-31T13:18:18.248049",
     "status": "completed"
    },
    "tags": []
   },
   "source": [
    "To be able to pull data from reddit API, I use my account and create a developer account in this platform. I hide my account informations in this file to prevent possible privacy issues."
   ]
  },
  {
   "cell_type": "code",
   "execution_count": 5,
   "metadata": {
    "execution": {
     "iopub.execute_input": "2021-03-31T13:18:18.452684Z",
     "iopub.status.busy": "2021-03-31T13:18:18.451635Z",
     "iopub.status.idle": "2021-03-31T13:18:18.455203Z",
     "shell.execute_reply": "2021-03-31T13:18:18.454522Z"
    },
    "papermill": {
     "duration": 0.079233,
     "end_time": "2021-03-31T13:18:18.455366",
     "exception": false,
     "start_time": "2021-03-31T13:18:18.376133",
     "status": "completed"
    },
    "tags": []
   },
   "outputs": [],
   "source": [
    "def get_comments(text):\n",
    "    for submission in reddit.subreddit(text).top(limit=50):\n",
    "        if not submission.stickied and submission.is_self:\n",
    "            comments = submission.comments\n",
    "            \n",
    "            for comment in comments:\n",
    "                if isinstance(comment, MoreComments):\n",
    "                    continue\n",
    "                elif len(str(comment.body).split()) > 3 and (comment.score !=1):\n",
    "                    try:\n",
    "                        thewriter.writerow([str(comment.id),\n",
    "                                            str(comment.body),\n",
    "                                            int(comment.score),\n",
    "                                            float(comment.created_utc),\n",
    "                                            str(datetime.fromtimestamp(submission.created_utc)),\n",
    "                                            str(comment.submission),\n",
    "                                            str(comment.subreddit),\n",
    "                                           ])\n",
    "                    except:\n",
    "                        TypeError"
   ]
  },
  {
   "cell_type": "code",
   "execution_count": 6,
   "metadata": {
    "execution": {
     "iopub.execute_input": "2021-03-31T13:18:18.588972Z",
     "iopub.status.busy": "2021-03-31T13:18:18.588273Z",
     "iopub.status.idle": "2021-03-31T13:18:18.591400Z",
     "shell.execute_reply": "2021-03-31T13:18:18.590872Z"
    },
    "papermill": {
     "duration": 0.071417,
     "end_time": "2021-03-31T13:18:18.591562",
     "exception": false,
     "start_time": "2021-03-31T13:18:18.520145",
     "status": "completed"
    },
    "tags": []
   },
   "outputs": [],
   "source": [
    "#with open(\"praw_dataset.csv\",\"w\", newline = \"\") as f:\n",
    "#    thewriter = csv.writer(f)\n",
    "#    \n",
    "#    thewriter.writerow([\"comment_id\",\"comment_body\",\"comment_score\",\"unix_time\",\"date\",\"submission\",\"subreddit\"])\n",
    "#    get_comments(\"PS4\")\n",
    "#    get_comments(\"xboxone\")"
   ]
  },
  {
   "cell_type": "markdown",
   "metadata": {
    "papermill": {
     "duration": 0.066693,
     "end_time": "2021-03-31T13:18:18.719999",
     "exception": false,
     "start_time": "2021-03-31T13:18:18.653306",
     "status": "completed"
    },
    "tags": []
   },
   "source": [
    "This is my custom API request function, I write the data to a csv. file."
   ]
  },
  {
   "cell_type": "markdown",
   "metadata": {
    "papermill": {
     "duration": 0.06498,
     "end_time": "2021-03-31T13:18:18.850342",
     "exception": false,
     "start_time": "2021-03-31T13:18:18.785362",
     "status": "completed"
    },
    "tags": []
   },
   "source": [
    "For this project, I collected data from top 50 submissions of PS4 and xboxone subreddits in Reddit. I filtered stickied submissions, which are submissions that pinned to the top of the subreddit by administrators. And also, I filtered out submissions that are not self posts, which also indicates that the submission is not containing links outside of reddit such as youtube videos, and contains textual posts of users.\n",
    "\n",
    "Because of the tree structure of Reddit comments, I also filtered out \"MoreComments\" option. That object represents loading more comments. This situation enabled me to filter the comments that got negative scores, that is, they did not reflect the opinion of the community. I also filtered out the comments with 1 score since it is default comment score in Reddit. This way, I guaranteed that all comments in my dataset are seen by others. \n",
    "\n",
    "Finally, I removed the comments with less than 3 sentences, because these comments mostly gave the names of the games. This may cause a lot of 0 sentiment points in sentiment analysis and may affect it negatively.\n",
    "\n",
    "You can find the function I wrote for data extraction in the appendix."
   ]
  },
  {
   "cell_type": "markdown",
   "metadata": {
    "papermill": {
     "duration": 0.063736,
     "end_time": "2021-03-31T13:18:18.975349",
     "exception": false,
     "start_time": "2021-03-31T13:18:18.911613",
     "status": "completed"
    },
    "tags": []
   },
   "source": [
    "# Import, Clean and Inspect Data"
   ]
  },
  {
   "cell_type": "code",
   "execution_count": 7,
   "metadata": {
    "execution": {
     "iopub.execute_input": "2021-03-31T13:18:19.107582Z",
     "iopub.status.busy": "2021-03-31T13:18:19.106896Z",
     "iopub.status.idle": "2021-03-31T13:18:19.110297Z",
     "shell.execute_reply": "2021-03-31T13:18:19.110943Z"
    },
    "papermill": {
     "duration": 0.069542,
     "end_time": "2021-03-31T13:18:19.111128",
     "exception": false,
     "start_time": "2021-03-31T13:18:19.041586",
     "status": "completed"
    },
    "tags": []
   },
   "outputs": [],
   "source": [
    "import pandas as pd\n",
    "import html\n",
    "import matplotlib as plt"
   ]
  },
  {
   "cell_type": "code",
   "execution_count": 8,
   "metadata": {
    "execution": {
     "iopub.execute_input": "2021-03-31T13:18:19.256904Z",
     "iopub.status.busy": "2021-03-31T13:18:19.255810Z",
     "iopub.status.idle": "2021-03-31T13:18:19.293143Z",
     "shell.execute_reply": "2021-03-31T13:18:19.294075Z"
    },
    "papermill": {
     "duration": 0.118999,
     "end_time": "2021-03-31T13:18:19.294565",
     "exception": false,
     "start_time": "2021-03-31T13:18:19.175566",
     "status": "completed"
    },
    "tags": []
   },
   "outputs": [],
   "source": [
    "df = pd.read_csv(\"/kaggle/input/prawapicollected/praw_dataset.csv\", encoding = \"ISO-8859-1\")"
   ]
  },
  {
   "cell_type": "code",
   "execution_count": 9,
   "metadata": {
    "execution": {
     "iopub.execute_input": "2021-03-31T13:18:19.455088Z",
     "iopub.status.busy": "2021-03-31T13:18:19.454434Z",
     "iopub.status.idle": "2021-03-31T13:18:19.493462Z",
     "shell.execute_reply": "2021-03-31T13:18:19.492903Z"
    },
    "papermill": {
     "duration": 0.105555,
     "end_time": "2021-03-31T13:18:19.493657",
     "exception": false,
     "start_time": "2021-03-31T13:18:19.388102",
     "status": "completed"
    },
    "scrolled": true,
    "tags": []
   },
   "outputs": [
    {
     "data": {
      "text/html": [
       "<div>\n",
       "<style scoped>\n",
       "    .dataframe tbody tr th:only-of-type {\n",
       "        vertical-align: middle;\n",
       "    }\n",
       "\n",
       "    .dataframe tbody tr th {\n",
       "        vertical-align: top;\n",
       "    }\n",
       "\n",
       "    .dataframe thead th {\n",
       "        text-align: right;\n",
       "    }\n",
       "</style>\n",
       "<table border=\"1\" class=\"dataframe\">\n",
       "  <thead>\n",
       "    <tr style=\"text-align: right;\">\n",
       "      <th></th>\n",
       "      <th>comment_id</th>\n",
       "      <th>comment_body</th>\n",
       "      <th>comment_score</th>\n",
       "      <th>unix_time</th>\n",
       "      <th>date</th>\n",
       "      <th>submission</th>\n",
       "      <th>subreddit</th>\n",
       "    </tr>\n",
       "  </thead>\n",
       "  <tbody>\n",
       "    <tr>\n",
       "      <th>0</th>\n",
       "      <td>dg6fmxv</td>\n",
       "      <td>that would be a nice feature</td>\n",
       "      <td>3264</td>\n",
       "      <td>1.492026e+09</td>\n",
       "      <td>2017-04-12 22:45:44</td>\n",
       "      <td>650hpd</td>\n",
       "      <td>PS4</td>\n",
       "    </tr>\n",
       "    <tr>\n",
       "      <th>1</th>\n",
       "      <td>dg6l25d</td>\n",
       "      <td>No mans sky would have been fucked off in abou...</td>\n",
       "      <td>2006</td>\n",
       "      <td>1.492032e+09</td>\n",
       "      <td>2017-04-13 00:21:40</td>\n",
       "      <td>650hpd</td>\n",
       "      <td>PS4</td>\n",
       "    </tr>\n",
       "    <tr>\n",
       "      <th>2</th>\n",
       "      <td>dg6fv4x</td>\n",
       "      <td>I don't know if Shawn Layden is really the one...</td>\n",
       "      <td>457</td>\n",
       "      <td>1.492027e+09</td>\n",
       "      <td>2017-04-12 22:49:37</td>\n",
       "      <td>650hpd</td>\n",
       "      <td>PS4</td>\n",
       "    </tr>\n",
       "    <tr>\n",
       "      <th>3</th>\n",
       "      <td>dg6m8x2</td>\n",
       "      <td>It's one of my favorite things about Steam and...</td>\n",
       "      <td>147</td>\n",
       "      <td>1.492034e+09</td>\n",
       "      <td>2017-04-13 00:45:11</td>\n",
       "      <td>650hpd</td>\n",
       "      <td>PS4</td>\n",
       "    </tr>\n",
       "    <tr>\n",
       "      <th>4</th>\n",
       "      <td>dg7cvar</td>\n",
       "      <td>Another big difference is the fact that Xbox a...</td>\n",
       "      <td>31</td>\n",
       "      <td>1.492077e+09</td>\n",
       "      <td>2017-04-13 12:42:57</td>\n",
       "      <td>650hpd</td>\n",
       "      <td>PS4</td>\n",
       "    </tr>\n",
       "  </tbody>\n",
       "</table>\n",
       "</div>"
      ],
      "text/plain": [
       "  comment_id                                       comment_body  \\\n",
       "0    dg6fmxv                       that would be a nice feature   \n",
       "1    dg6l25d  No mans sky would have been fucked off in abou...   \n",
       "2    dg6fv4x  I don't know if Shawn Layden is really the one...   \n",
       "3    dg6m8x2  It's one of my favorite things about Steam and...   \n",
       "4    dg7cvar  Another big difference is the fact that Xbox a...   \n",
       "\n",
       "   comment_score     unix_time                 date submission subreddit  \n",
       "0           3264  1.492026e+09  2017-04-12 22:45:44     650hpd       PS4  \n",
       "1           2006  1.492032e+09  2017-04-13 00:21:40     650hpd       PS4  \n",
       "2            457  1.492027e+09  2017-04-12 22:49:37     650hpd       PS4  \n",
       "3            147  1.492034e+09  2017-04-13 00:45:11     650hpd       PS4  \n",
       "4             31  1.492077e+09  2017-04-13 12:42:57     650hpd       PS4  "
      ]
     },
     "execution_count": 9,
     "metadata": {},
     "output_type": "execute_result"
    }
   ],
   "source": [
    "df.head()"
   ]
  },
  {
   "cell_type": "code",
   "execution_count": 10,
   "metadata": {
    "execution": {
     "iopub.execute_input": "2021-03-31T13:18:19.635569Z",
     "iopub.status.busy": "2021-03-31T13:18:19.634917Z",
     "iopub.status.idle": "2021-03-31T13:18:19.694307Z",
     "shell.execute_reply": "2021-03-31T13:18:19.694847Z"
    },
    "papermill": {
     "duration": 0.131881,
     "end_time": "2021-03-31T13:18:19.695050",
     "exception": false,
     "start_time": "2021-03-31T13:18:19.563169",
     "status": "completed"
    },
    "scrolled": true,
    "tags": []
   },
   "outputs": [
    {
     "data": {
      "text/html": [
       "<div>\n",
       "<style scoped>\n",
       "    .dataframe tbody tr th:only-of-type {\n",
       "        vertical-align: middle;\n",
       "    }\n",
       "\n",
       "    .dataframe tbody tr th {\n",
       "        vertical-align: top;\n",
       "    }\n",
       "\n",
       "    .dataframe thead th {\n",
       "        text-align: right;\n",
       "    }\n",
       "</style>\n",
       "<table border=\"1\" class=\"dataframe\">\n",
       "  <thead>\n",
       "    <tr style=\"text-align: right;\">\n",
       "      <th></th>\n",
       "      <th>comment_id</th>\n",
       "      <th>comment_body</th>\n",
       "      <th>comment_score</th>\n",
       "      <th>unix_time</th>\n",
       "      <th>date</th>\n",
       "      <th>submission</th>\n",
       "      <th>subreddit</th>\n",
       "    </tr>\n",
       "  </thead>\n",
       "  <tbody>\n",
       "    <tr>\n",
       "      <th>count</th>\n",
       "      <td>1050</td>\n",
       "      <td>1050</td>\n",
       "      <td>1050.000000</td>\n",
       "      <td>1.050000e+03</td>\n",
       "      <td>1050</td>\n",
       "      <td>1050</td>\n",
       "      <td>1050</td>\n",
       "    </tr>\n",
       "    <tr>\n",
       "      <th>unique</th>\n",
       "      <td>1050</td>\n",
       "      <td>1050</td>\n",
       "      <td>NaN</td>\n",
       "      <td>NaN</td>\n",
       "      <td>1045</td>\n",
       "      <td>10</td>\n",
       "      <td>2</td>\n",
       "    </tr>\n",
       "    <tr>\n",
       "      <th>top</th>\n",
       "      <td>f1e5etl</td>\n",
       "      <td>I fully support this</td>\n",
       "      <td>NaN</td>\n",
       "      <td>NaN</td>\n",
       "      <td>2020-09-21 16:20:40</td>\n",
       "      <td>d8t3km</td>\n",
       "      <td>PS4</td>\n",
       "    </tr>\n",
       "    <tr>\n",
       "      <th>freq</th>\n",
       "      <td>1</td>\n",
       "      <td>1</td>\n",
       "      <td>NaN</td>\n",
       "      <td>NaN</td>\n",
       "      <td>2</td>\n",
       "      <td>215</td>\n",
       "      <td>566</td>\n",
       "    </tr>\n",
       "    <tr>\n",
       "      <th>mean</th>\n",
       "      <td>NaN</td>\n",
       "      <td>NaN</td>\n",
       "      <td>179.218095</td>\n",
       "      <td>1.544302e+09</td>\n",
       "      <td>NaN</td>\n",
       "      <td>NaN</td>\n",
       "      <td>NaN</td>\n",
       "    </tr>\n",
       "    <tr>\n",
       "      <th>std</th>\n",
       "      <td>NaN</td>\n",
       "      <td>NaN</td>\n",
       "      <td>887.551529</td>\n",
       "      <td>3.215396e+07</td>\n",
       "      <td>NaN</td>\n",
       "      <td>NaN</td>\n",
       "      <td>NaN</td>\n",
       "    </tr>\n",
       "    <tr>\n",
       "      <th>min</th>\n",
       "      <td>NaN</td>\n",
       "      <td>NaN</td>\n",
       "      <td>2.000000</td>\n",
       "      <td>1.492026e+09</td>\n",
       "      <td>NaN</td>\n",
       "      <td>NaN</td>\n",
       "      <td>NaN</td>\n",
       "    </tr>\n",
       "    <tr>\n",
       "      <th>25%</th>\n",
       "      <td>NaN</td>\n",
       "      <td>NaN</td>\n",
       "      <td>2.000000</td>\n",
       "      <td>1.528836e+09</td>\n",
       "      <td>NaN</td>\n",
       "      <td>NaN</td>\n",
       "      <td>NaN</td>\n",
       "    </tr>\n",
       "    <tr>\n",
       "      <th>50%</th>\n",
       "      <td>NaN</td>\n",
       "      <td>NaN</td>\n",
       "      <td>5.000000</td>\n",
       "      <td>1.544480e+09</td>\n",
       "      <td>NaN</td>\n",
       "      <td>NaN</td>\n",
       "      <td>NaN</td>\n",
       "    </tr>\n",
       "    <tr>\n",
       "      <th>75%</th>\n",
       "      <td>NaN</td>\n",
       "      <td>NaN</td>\n",
       "      <td>21.000000</td>\n",
       "      <td>1.569367e+09</td>\n",
       "      <td>NaN</td>\n",
       "      <td>NaN</td>\n",
       "      <td>NaN</td>\n",
       "    </tr>\n",
       "    <tr>\n",
       "      <th>max</th>\n",
       "      <td>NaN</td>\n",
       "      <td>NaN</td>\n",
       "      <td>12824.000000</td>\n",
       "      <td>1.600731e+09</td>\n",
       "      <td>NaN</td>\n",
       "      <td>NaN</td>\n",
       "      <td>NaN</td>\n",
       "    </tr>\n",
       "  </tbody>\n",
       "</table>\n",
       "</div>"
      ],
      "text/plain": [
       "       comment_id          comment_body  comment_score     unix_time  \\\n",
       "count        1050                  1050    1050.000000  1.050000e+03   \n",
       "unique       1050                  1050            NaN           NaN   \n",
       "top       f1e5etl  I fully support this            NaN           NaN   \n",
       "freq            1                     1            NaN           NaN   \n",
       "mean          NaN                   NaN     179.218095  1.544302e+09   \n",
       "std           NaN                   NaN     887.551529  3.215396e+07   \n",
       "min           NaN                   NaN       2.000000  1.492026e+09   \n",
       "25%           NaN                   NaN       2.000000  1.528836e+09   \n",
       "50%           NaN                   NaN       5.000000  1.544480e+09   \n",
       "75%           NaN                   NaN      21.000000  1.569367e+09   \n",
       "max           NaN                   NaN   12824.000000  1.600731e+09   \n",
       "\n",
       "                       date submission subreddit  \n",
       "count                  1050       1050      1050  \n",
       "unique                 1045         10         2  \n",
       "top     2020-09-21 16:20:40     d8t3km       PS4  \n",
       "freq                      2        215       566  \n",
       "mean                    NaN        NaN       NaN  \n",
       "std                     NaN        NaN       NaN  \n",
       "min                     NaN        NaN       NaN  \n",
       "25%                     NaN        NaN       NaN  \n",
       "50%                     NaN        NaN       NaN  \n",
       "75%                     NaN        NaN       NaN  \n",
       "max                     NaN        NaN       NaN  "
      ]
     },
     "execution_count": 10,
     "metadata": {},
     "output_type": "execute_result"
    }
   ],
   "source": [
    "df.describe(include='all')"
   ]
  },
  {
   "cell_type": "markdown",
   "metadata": {
    "papermill": {
     "duration": 0.062946,
     "end_time": "2021-03-31T13:18:19.828016",
     "exception": false,
     "start_time": "2021-03-31T13:18:19.765070",
     "status": "completed"
    },
    "tags": []
   },
   "source": [
    "This collected praw dataset contains 7 attributes. Comment_id describes unique id of each comment, comment body is textual content of the instance. Comment score is summation of number of likes and dislikes of the comments. Initial score is 1, therefore, to prevent bias and use the comments which people interacted, I dropped comments with 1 score.\n",
    "\n",
    "Unix_time is default time attribute of comments in unix format, and date is its derived form into more human readable format. Submission attribute indicates the post which comment belongs. And subreddit is the 2 subreddits that data is collected, xboxone and ps4."
   ]
  },
  {
   "cell_type": "markdown",
   "metadata": {
    "papermill": {
     "duration": 0.064724,
     "end_time": "2021-03-31T13:18:19.955875",
     "exception": false,
     "start_time": "2021-03-31T13:18:19.891151",
     "status": "completed"
    },
    "tags": []
   },
   "source": [
    "- comment_id : 1050 distinct nominal categories. ID of each comment.\n",
    "- comment_body: 1050 distinct nominal categories. Textual content of each comment.\n",
    "- comment_score: Discrete quantiative values of comment scores. Values between 2 and 12824. with median of 5.\n",
    "- unix_time: Discrete quantiative values of time of comment posts. Values between 1.492026e+09 and 1.600731e+09. \n",
    "- date: Human readable time format of submission dates.\n",
    "- submission: Nominal categorical data with 10 unique values. This means top 4 submissions from Xbox subreddit, and top 6     submissions from PS4 subreddit.\n",
    "- subreddit: Binary Nominal data. 2 subreddits, XboxOne and PS4."
   ]
  },
  {
   "cell_type": "code",
   "execution_count": 11,
   "metadata": {
    "execution": {
     "iopub.execute_input": "2021-03-31T13:18:20.089963Z",
     "iopub.status.busy": "2021-03-31T13:18:20.088985Z",
     "iopub.status.idle": "2021-03-31T13:18:20.096170Z",
     "shell.execute_reply": "2021-03-31T13:18:20.095611Z"
    },
    "papermill": {
     "duration": 0.075887,
     "end_time": "2021-03-31T13:18:20.096322",
     "exception": false,
     "start_time": "2021-03-31T13:18:20.020435",
     "status": "completed"
    },
    "tags": []
   },
   "outputs": [
    {
     "data": {
      "text/plain": [
       "(1050, 7)"
      ]
     },
     "execution_count": 11,
     "metadata": {},
     "output_type": "execute_result"
    }
   ],
   "source": [
    "df.shape"
   ]
  },
  {
   "cell_type": "markdown",
   "metadata": {
    "papermill": {
     "duration": 0.06439,
     "end_time": "2021-03-31T13:18:20.224855",
     "exception": false,
     "start_time": "2021-03-31T13:18:20.160465",
     "status": "completed"
    },
    "tags": []
   },
   "source": [
    "The dataset in its pure form contains 7 instances and 1050 rows. 566 of the rows come from the ps4 subreddit and 485 from the xboxone subreddit.\n",
    "\n",
    "In order to avoid any problem in the analysis, I convert the tab or newline spaces in the commentbody to space, I convert these texts to lowercase letters. In this way, while calculating the frequency of the words, those with case difference will appear as the same word."
   ]
  },
  {
   "cell_type": "code",
   "execution_count": 12,
   "metadata": {
    "execution": {
     "iopub.execute_input": "2021-03-31T13:18:20.362165Z",
     "iopub.status.busy": "2021-03-31T13:18:20.361373Z",
     "iopub.status.idle": "2021-03-31T13:18:20.363585Z",
     "shell.execute_reply": "2021-03-31T13:18:20.364116Z"
    },
    "papermill": {
     "duration": 0.073877,
     "end_time": "2021-03-31T13:18:20.364299",
     "exception": false,
     "start_time": "2021-03-31T13:18:20.290422",
     "status": "completed"
    },
    "tags": []
   },
   "outputs": [],
   "source": [
    "def simplify_text(text):\n",
    "    return html.unescape(\" \".join(text.split()))\n",
    "\n",
    "def lower_sentences(text):\n",
    "    return text.lower()"
   ]
  },
  {
   "cell_type": "code",
   "execution_count": 13,
   "metadata": {
    "execution": {
     "iopub.execute_input": "2021-03-31T13:18:20.499057Z",
     "iopub.status.busy": "2021-03-31T13:18:20.498381Z",
     "iopub.status.idle": "2021-03-31T13:18:20.509982Z",
     "shell.execute_reply": "2021-03-31T13:18:20.510482Z"
    },
    "papermill": {
     "duration": 0.08042,
     "end_time": "2021-03-31T13:18:20.510675",
     "exception": false,
     "start_time": "2021-03-31T13:18:20.430255",
     "status": "completed"
    },
    "tags": []
   },
   "outputs": [],
   "source": [
    "df[\"comment_body\"] = df[\"comment_body\"].map(lower_sentences)\n",
    "df[\"comment_body\"] = df[\"comment_body\"].map(simplify_text)"
   ]
  },
  {
   "cell_type": "code",
   "execution_count": 14,
   "metadata": {
    "execution": {
     "iopub.execute_input": "2021-03-31T13:18:20.643673Z",
     "iopub.status.busy": "2021-03-31T13:18:20.642979Z",
     "iopub.status.idle": "2021-03-31T13:18:40.179725Z",
     "shell.execute_reply": "2021-03-31T13:18:40.180452Z"
    },
    "papermill": {
     "duration": 19.604401,
     "end_time": "2021-03-31T13:18:40.180672",
     "exception": false,
     "start_time": "2021-03-31T13:18:20.576271",
     "status": "completed"
    },
    "tags": []
   },
   "outputs": [
    {
     "name": "stdout",
     "output_type": "stream",
     "text": [
      "Collecting langdetect\r\n",
      "  Downloading langdetect-1.0.8.tar.gz (981 kB)\r\n",
      "\u001b[K     |████████████████████████████████| 981 kB 860 kB/s \r\n",
      "\u001b[?25hRequirement already satisfied: six in /opt/conda/lib/python3.7/site-packages (from langdetect) (1.15.0)\r\n",
      "Building wheels for collected packages: langdetect\r\n",
      "  Building wheel for langdetect (setup.py) ... \u001b[?25l-\b \b\\\b \b|\b \b/\b \b-\b \bdone\r\n",
      "\u001b[?25h  Created wheel for langdetect: filename=langdetect-1.0.8-py3-none-any.whl size=993190 sha256=321920184b7f08e437e8ffd20db9cbc29eafe86447b228a7151374b67ac8d0ee\r\n",
      "  Stored in directory: /root/.cache/pip/wheels/59/f6/9d/85068904dba861c0b9af74e286265a08da438748ee5ae56067\r\n",
      "Successfully built langdetect\r\n",
      "Installing collected packages: langdetect\r\n",
      "Successfully installed langdetect-1.0.8\r\n"
     ]
    },
    {
     "data": {
      "text/plain": [
       "en    1026\n",
       "af       7\n",
       "it       3\n",
       "da       2\n",
       "fr       2\n",
       "cy       2\n",
       "tl       2\n",
       "hr       1\n",
       "et       1\n",
       "sk       1\n",
       "nl       1\n",
       "ca       1\n",
       "sv       1\n",
       "Name: lang, dtype: int64"
      ]
     },
     "execution_count": 14,
     "metadata": {},
     "output_type": "execute_result"
    }
   ],
   "source": [
    "!pip install langdetect\n",
    "from langdetect import detect\n",
    "import re\n",
    "\n",
    "def detect_comment_lang(comment):\n",
    "    \n",
    "    comment = ' '.join(re.sub(\"(@[A-Za-z0-9_\\-]+ )|(https?:\\/\\/.* )|(www\\..* )\",\" \",comment).split())\n",
    "    try:\n",
    "        lang = detect(comment)\n",
    "    except:\n",
    "        lang = \"\"\n",
    "        \n",
    "    return lang\n",
    "\n",
    "df[\"lang\"] = df[\"comment_body\"].map(detect_comment_lang)\n",
    "\n",
    "# Summarizes detected language counts:\n",
    "df[\"lang\"].value_counts()"
   ]
  },
  {
   "cell_type": "code",
   "execution_count": 15,
   "metadata": {
    "execution": {
     "iopub.execute_input": "2021-03-31T13:18:40.351101Z",
     "iopub.status.busy": "2021-03-31T13:18:40.350314Z",
     "iopub.status.idle": "2021-03-31T13:18:40.356310Z",
     "shell.execute_reply": "2021-03-31T13:18:40.355700Z"
    },
    "papermill": {
     "duration": 0.093114,
     "end_time": "2021-03-31T13:18:40.356483",
     "exception": false,
     "start_time": "2021-03-31T13:18:40.263369",
     "status": "completed"
    },
    "tags": []
   },
   "outputs": [],
   "source": [
    "df = df[df[\"lang\"] == \"en\"]"
   ]
  },
  {
   "cell_type": "code",
   "execution_count": 16,
   "metadata": {
    "execution": {
     "iopub.execute_input": "2021-03-31T13:18:40.528972Z",
     "iopub.status.busy": "2021-03-31T13:18:40.527348Z",
     "iopub.status.idle": "2021-03-31T13:18:40.533475Z",
     "shell.execute_reply": "2021-03-31T13:18:40.532924Z"
    },
    "papermill": {
     "duration": 0.09531,
     "end_time": "2021-03-31T13:18:40.533642",
     "exception": false,
     "start_time": "2021-03-31T13:18:40.438332",
     "status": "completed"
    },
    "scrolled": true,
    "tags": []
   },
   "outputs": [
    {
     "data": {
      "text/plain": [
       "en    1026\n",
       "Name: lang, dtype: int64"
      ]
     },
     "execution_count": 16,
     "metadata": {},
     "output_type": "execute_result"
    }
   ],
   "source": [
    "df[\"lang\"].value_counts()"
   ]
  },
  {
   "cell_type": "code",
   "execution_count": 17,
   "metadata": {
    "execution": {
     "iopub.execute_input": "2021-03-31T13:18:40.698742Z",
     "iopub.status.busy": "2021-03-31T13:18:40.698011Z",
     "iopub.status.idle": "2021-03-31T13:18:40.702068Z",
     "shell.execute_reply": "2021-03-31T13:18:40.703239Z"
    },
    "papermill": {
     "duration": 0.092487,
     "end_time": "2021-03-31T13:18:40.703557",
     "exception": false,
     "start_time": "2021-03-31T13:18:40.611070",
     "status": "completed"
    },
    "tags": []
   },
   "outputs": [],
   "source": [
    "df = df.drop([\"lang\"],axis = 1)"
   ]
  },
  {
   "cell_type": "code",
   "execution_count": 18,
   "metadata": {
    "execution": {
     "iopub.execute_input": "2021-03-31T13:18:40.875204Z",
     "iopub.status.busy": "2021-03-31T13:18:40.874190Z",
     "iopub.status.idle": "2021-03-31T13:18:40.880180Z",
     "shell.execute_reply": "2021-03-31T13:18:40.880862Z"
    },
    "papermill": {
     "duration": 0.095415,
     "end_time": "2021-03-31T13:18:40.881074",
     "exception": false,
     "start_time": "2021-03-31T13:18:40.785659",
     "status": "completed"
    },
    "scrolled": true,
    "tags": []
   },
   "outputs": [
    {
     "data": {
      "text/plain": [
       "(1026, 7)"
      ]
     },
     "execution_count": 18,
     "metadata": {},
     "output_type": "execute_result"
    }
   ],
   "source": [
    "df.shape"
   ]
  },
  {
   "cell_type": "code",
   "execution_count": 19,
   "metadata": {
    "execution": {
     "iopub.execute_input": "2021-03-31T13:18:41.062927Z",
     "iopub.status.busy": "2021-03-31T13:18:41.061973Z",
     "iopub.status.idle": "2021-03-31T13:18:41.068664Z",
     "shell.execute_reply": "2021-03-31T13:18:41.069310Z"
    },
    "papermill": {
     "duration": 0.105971,
     "end_time": "2021-03-31T13:18:41.069508",
     "exception": false,
     "start_time": "2021-03-31T13:18:40.963537",
     "status": "completed"
    },
    "tags": []
   },
   "outputs": [
    {
     "data": {
      "text/html": [
       "<div>\n",
       "<style scoped>\n",
       "    .dataframe tbody tr th:only-of-type {\n",
       "        vertical-align: middle;\n",
       "    }\n",
       "\n",
       "    .dataframe tbody tr th {\n",
       "        vertical-align: top;\n",
       "    }\n",
       "\n",
       "    .dataframe thead th {\n",
       "        text-align: right;\n",
       "    }\n",
       "</style>\n",
       "<table border=\"1\" class=\"dataframe\">\n",
       "  <thead>\n",
       "    <tr style=\"text-align: right;\">\n",
       "      <th></th>\n",
       "      <th>comment_id</th>\n",
       "      <th>comment_body</th>\n",
       "      <th>comment_score</th>\n",
       "      <th>unix_time</th>\n",
       "      <th>date</th>\n",
       "      <th>submission</th>\n",
       "      <th>subreddit</th>\n",
       "    </tr>\n",
       "  </thead>\n",
       "  <tbody>\n",
       "    <tr>\n",
       "      <th>1044</th>\n",
       "      <td>f1e6xkw</td>\n",
       "      <td>way ahead of you. stopped buying after blops-i...</td>\n",
       "      <td>2</td>\n",
       "      <td>1.569415e+09</td>\n",
       "      <td>2019-09-25 15:29:50</td>\n",
       "      <td>d8t3km</td>\n",
       "      <td>xboxone</td>\n",
       "    </tr>\n",
       "    <tr>\n",
       "      <th>1045</th>\n",
       "      <td>f1e81u9</td>\n",
       "      <td>gamers rise up i cant believe this oppression</td>\n",
       "      <td>2</td>\n",
       "      <td>1.569416e+09</td>\n",
       "      <td>2019-09-25 15:45:13</td>\n",
       "      <td>d8t3km</td>\n",
       "      <td>xboxone</td>\n",
       "    </tr>\n",
       "    <tr>\n",
       "      <th>1046</th>\n",
       "      <td>f1e8f01</td>\n",
       "      <td>you get what you pay for supporting activision...</td>\n",
       "      <td>2</td>\n",
       "      <td>1.569416e+09</td>\n",
       "      <td>2019-09-25 15:50:06</td>\n",
       "      <td>d8t3km</td>\n",
       "      <td>xboxone</td>\n",
       "    </tr>\n",
       "    <tr>\n",
       "      <th>1048</th>\n",
       "      <td>f1ee5eq</td>\n",
       "      <td>jesus this is the dweebiest headline ive ever...</td>\n",
       "      <td>2</td>\n",
       "      <td>1.569420e+09</td>\n",
       "      <td>2019-09-25 17:02:07</td>\n",
       "      <td>d8t3km</td>\n",
       "      <td>xboxone</td>\n",
       "    </tr>\n",
       "    <tr>\n",
       "      <th>1049</th>\n",
       "      <td>f1eeb1a</td>\n",
       "      <td>it should be at least 50 dollars for xbox owners.</td>\n",
       "      <td>2</td>\n",
       "      <td>1.569420e+09</td>\n",
       "      <td>2019-09-25 17:03:54</td>\n",
       "      <td>d8t3km</td>\n",
       "      <td>xboxone</td>\n",
       "    </tr>\n",
       "  </tbody>\n",
       "</table>\n",
       "</div>"
      ],
      "text/plain": [
       "     comment_id                                       comment_body  \\\n",
       "1044    f1e6xkw  way ahead of you. stopped buying after blops-i...   \n",
       "1045    f1e81u9      gamers rise up i cant believe this oppression   \n",
       "1046    f1e8f01  you get what you pay for supporting activision...   \n",
       "1048    f1ee5eq  jesus this is the dweebiest headline ive ever...   \n",
       "1049    f1eeb1a  it should be at least 50 dollars for xbox owners.   \n",
       "\n",
       "      comment_score     unix_time                 date submission subreddit  \n",
       "1044              2  1.569415e+09  2019-09-25 15:29:50     d8t3km   xboxone  \n",
       "1045              2  1.569416e+09  2019-09-25 15:45:13     d8t3km   xboxone  \n",
       "1046              2  1.569416e+09  2019-09-25 15:50:06     d8t3km   xboxone  \n",
       "1048              2  1.569420e+09  2019-09-25 17:02:07     d8t3km   xboxone  \n",
       "1049              2  1.569420e+09  2019-09-25 17:03:54     d8t3km   xboxone  "
      ]
     },
     "execution_count": 19,
     "metadata": {},
     "output_type": "execute_result"
    }
   ],
   "source": [
    "df.tail()"
   ]
  },
  {
   "cell_type": "markdown",
   "metadata": {
    "papermill": {
     "duration": 0.086351,
     "end_time": "2021-03-31T13:18:41.237022",
     "exception": false,
     "start_time": "2021-03-31T13:18:41.150671",
     "status": "completed"
    },
    "tags": []
   },
   "source": [
    "In addition, I identify the comments in different languages and remove them from the dataset to prevent the analyzes from giving incorrect results. At the end of this, we have an 8 column dataset with 1022 instance. I dropped LANG column after I finished this process.\n",
    "\n",
    "At the end of this, dataset is ready for preprocessing step."
   ]
  },
  {
   "cell_type": "markdown",
   "metadata": {
    "papermill": {
     "duration": 0.099078,
     "end_time": "2021-03-31T13:18:41.441945",
     "exception": false,
     "start_time": "2021-03-31T13:18:41.342867",
     "status": "completed"
    },
    "tags": []
   },
   "source": [
    "# Data Preprocessing"
   ]
  },
  {
   "cell_type": "code",
   "execution_count": 20,
   "metadata": {
    "execution": {
     "iopub.execute_input": "2021-03-31T13:18:41.624242Z",
     "iopub.status.busy": "2021-03-31T13:18:41.619115Z",
     "iopub.status.idle": "2021-03-31T13:18:54.506677Z",
     "shell.execute_reply": "2021-03-31T13:18:54.507390Z"
    },
    "papermill": {
     "duration": 12.986342,
     "end_time": "2021-03-31T13:18:54.507570",
     "exception": false,
     "start_time": "2021-03-31T13:18:41.521228",
     "status": "completed"
    },
    "tags": []
   },
   "outputs": [
    {
     "name": "stdout",
     "output_type": "stream",
     "text": [
      "Collecting autocorrect\r\n",
      "  Downloading autocorrect-2.3.0.tar.gz (621 kB)\r\n",
      "\u001b[K     |████████████████████████████████| 621 kB 862 kB/s \r\n",
      "\u001b[?25hBuilding wheels for collected packages: autocorrect\r\n",
      "  Building wheel for autocorrect (setup.py) ... \u001b[?25l-\b \b\\\b \bdone\r\n",
      "\u001b[?25h  Created wheel for autocorrect: filename=autocorrect-2.3.0-py3-none-any.whl size=621586 sha256=05c5f39a0dba267683cbfd3a12f07e19e62462f5909c0b8ba14c51da6696e526\r\n",
      "  Stored in directory: /root/.cache/pip/wheels/61/57/90/81773ba730e74f94d7e494543807695eacbf42528c9d2ad488\r\n",
      "Successfully built autocorrect\r\n",
      "Installing collected packages: autocorrect\r\n",
      "Successfully installed autocorrect-2.3.0\r\n"
     ]
    },
    {
     "name": "stderr",
     "output_type": "stream",
     "text": [
      "/opt/conda/lib/python3.7/site-packages/nltk/twitter/__init__.py:20: UserWarning: The twython library has not been installed. Some functionality from the twitter package will not be available.\n",
      "  warnings.warn(\"The twython library has not been installed. \"\n"
     ]
    }
   ],
   "source": [
    "!pip install autocorrect\n",
    "from nltk.corpus import stopwords\n",
    "import sys\n",
    "import re\n",
    "import nltk.data\n",
    "from nltk import pos_tag_sents\n",
    "from nltk.sentiment.util import mark_negation\n",
    "from nltk import pos_tag\n",
    "from nltk.stem import WordNetLemmatizer\n",
    "from nltk.corpus import wordnet as wn\n",
    "from nltk import pos_tag\n",
    "from nltk.tokenize import TweetTokenizer\n",
    "from autocorrect import Speller\n",
    "from emoji import get_emoji_regexp"
   ]
  },
  {
   "cell_type": "markdown",
   "metadata": {
    "papermill": {
     "duration": 0.086301,
     "end_time": "2021-03-31T13:18:54.679377",
     "exception": false,
     "start_time": "2021-03-31T13:18:54.593076",
     "status": "completed"
    },
    "tags": []
   },
   "source": [
    "### Tokenization and Postagging"
   ]
  },
  {
   "cell_type": "code",
   "execution_count": 21,
   "metadata": {
    "execution": {
     "iopub.execute_input": "2021-03-31T13:18:54.851206Z",
     "iopub.status.busy": "2021-03-31T13:18:54.850158Z",
     "iopub.status.idle": "2021-03-31T13:18:55.547139Z",
     "shell.execute_reply": "2021-03-31T13:18:55.546476Z"
    },
    "papermill": {
     "duration": 0.785907,
     "end_time": "2021-03-31T13:18:55.547301",
     "exception": false,
     "start_time": "2021-03-31T13:18:54.761394",
     "status": "completed"
    },
    "tags": []
   },
   "outputs": [],
   "source": [
    "df['tokenized_sents'] = df.apply(lambda row: nltk.word_tokenize(row['comment_body']), axis=1)"
   ]
  },
  {
   "cell_type": "code",
   "execution_count": 22,
   "metadata": {
    "execution": {
     "iopub.execute_input": "2021-03-31T13:18:55.732687Z",
     "iopub.status.busy": "2021-03-31T13:18:55.731897Z",
     "iopub.status.idle": "2021-03-31T13:18:58.317593Z",
     "shell.execute_reply": "2021-03-31T13:18:58.316670Z"
    },
    "papermill": {
     "duration": 2.68191,
     "end_time": "2021-03-31T13:18:58.317776",
     "exception": false,
     "start_time": "2021-03-31T13:18:55.635866",
     "status": "completed"
    },
    "tags": []
   },
   "outputs": [],
   "source": [
    "df['tokenized_postagged'] = df.apply(lambda row: nltk.pos_tag(row['tokenized_sents']), axis=1)"
   ]
  },
  {
   "cell_type": "code",
   "execution_count": 23,
   "metadata": {
    "execution": {
     "iopub.execute_input": "2021-03-31T13:18:58.530210Z",
     "iopub.status.busy": "2021-03-31T13:18:58.507088Z",
     "iopub.status.idle": "2021-03-31T13:18:58.558002Z",
     "shell.execute_reply": "2021-03-31T13:18:58.556698Z"
    },
    "papermill": {
     "duration": 0.157663,
     "end_time": "2021-03-31T13:18:58.558302",
     "exception": false,
     "start_time": "2021-03-31T13:18:58.400639",
     "status": "completed"
    },
    "scrolled": false,
    "tags": []
   },
   "outputs": [
    {
     "data": {
      "text/html": [
       "<div>\n",
       "<style scoped>\n",
       "    .dataframe tbody tr th:only-of-type {\n",
       "        vertical-align: middle;\n",
       "    }\n",
       "\n",
       "    .dataframe tbody tr th {\n",
       "        vertical-align: top;\n",
       "    }\n",
       "\n",
       "    .dataframe thead th {\n",
       "        text-align: right;\n",
       "    }\n",
       "</style>\n",
       "<table border=\"1\" class=\"dataframe\">\n",
       "  <thead>\n",
       "    <tr style=\"text-align: right;\">\n",
       "      <th></th>\n",
       "      <th>comment_id</th>\n",
       "      <th>comment_body</th>\n",
       "      <th>comment_score</th>\n",
       "      <th>unix_time</th>\n",
       "      <th>date</th>\n",
       "      <th>submission</th>\n",
       "      <th>subreddit</th>\n",
       "      <th>tokenized_sents</th>\n",
       "      <th>tokenized_postagged</th>\n",
       "    </tr>\n",
       "  </thead>\n",
       "  <tbody>\n",
       "    <tr>\n",
       "      <th>1044</th>\n",
       "      <td>f1e6xkw</td>\n",
       "      <td>way ahead of you. stopped buying after blops-i...</td>\n",
       "      <td>2</td>\n",
       "      <td>1.569415e+09</td>\n",
       "      <td>2019-09-25 15:29:50</td>\n",
       "      <td>d8t3km</td>\n",
       "      <td>xboxone</td>\n",
       "      <td>[way, ahead, of, you, ., stopped, buying, afte...</td>\n",
       "      <td>[(way, NN), (ahead, RB), (of, IN), (you, PRP),...</td>\n",
       "    </tr>\n",
       "    <tr>\n",
       "      <th>1045</th>\n",
       "      <td>f1e81u9</td>\n",
       "      <td>gamers rise up i cant believe this oppression</td>\n",
       "      <td>2</td>\n",
       "      <td>1.569416e+09</td>\n",
       "      <td>2019-09-25 15:45:13</td>\n",
       "      <td>d8t3km</td>\n",
       "      <td>xboxone</td>\n",
       "      <td>[gamers, rise, up, i, cant, believe, this, opp...</td>\n",
       "      <td>[(gamers, NNS), (rise, VBP), (up, RP), (i, JJ)...</td>\n",
       "    </tr>\n",
       "    <tr>\n",
       "      <th>1046</th>\n",
       "      <td>f1e8f01</td>\n",
       "      <td>you get what you pay for supporting activision...</td>\n",
       "      <td>2</td>\n",
       "      <td>1.569416e+09</td>\n",
       "      <td>2019-09-25 15:50:06</td>\n",
       "      <td>d8t3km</td>\n",
       "      <td>xboxone</td>\n",
       "      <td>[you, get, what, you, pay, for, supporting, ac...</td>\n",
       "      <td>[(you, PRP), (get, VBP), (what, WP), (you, PRP...</td>\n",
       "    </tr>\n",
       "    <tr>\n",
       "      <th>1048</th>\n",
       "      <td>f1ee5eq</td>\n",
       "      <td>jesus this is the dweebiest headline ive ever...</td>\n",
       "      <td>2</td>\n",
       "      <td>1.569420e+09</td>\n",
       "      <td>2019-09-25 17:02:07</td>\n",
       "      <td>d8t3km</td>\n",
       "      <td>xboxone</td>\n",
       "      <td>[jesus, this, is, the, dweebiest, headline, i...</td>\n",
       "      <td>[(jesus, NN), (this, DT), (is, VBZ), (the, DT)...</td>\n",
       "    </tr>\n",
       "    <tr>\n",
       "      <th>1049</th>\n",
       "      <td>f1eeb1a</td>\n",
       "      <td>it should be at least 50 dollars for xbox owners.</td>\n",
       "      <td>2</td>\n",
       "      <td>1.569420e+09</td>\n",
       "      <td>2019-09-25 17:03:54</td>\n",
       "      <td>d8t3km</td>\n",
       "      <td>xboxone</td>\n",
       "      <td>[it, should, be, at, least, 50, dollars, for, ...</td>\n",
       "      <td>[(it, PRP), (should, MD), (be, VB), (at, IN), ...</td>\n",
       "    </tr>\n",
       "  </tbody>\n",
       "</table>\n",
       "</div>"
      ],
      "text/plain": [
       "     comment_id                                       comment_body  \\\n",
       "1044    f1e6xkw  way ahead of you. stopped buying after blops-i...   \n",
       "1045    f1e81u9      gamers rise up i cant believe this oppression   \n",
       "1046    f1e8f01  you get what you pay for supporting activision...   \n",
       "1048    f1ee5eq  jesus this is the dweebiest headline ive ever...   \n",
       "1049    f1eeb1a  it should be at least 50 dollars for xbox owners.   \n",
       "\n",
       "      comment_score     unix_time                 date submission subreddit  \\\n",
       "1044              2  1.569415e+09  2019-09-25 15:29:50     d8t3km   xboxone   \n",
       "1045              2  1.569416e+09  2019-09-25 15:45:13     d8t3km   xboxone   \n",
       "1046              2  1.569416e+09  2019-09-25 15:50:06     d8t3km   xboxone   \n",
       "1048              2  1.569420e+09  2019-09-25 17:02:07     d8t3km   xboxone   \n",
       "1049              2  1.569420e+09  2019-09-25 17:03:54     d8t3km   xboxone   \n",
       "\n",
       "                                        tokenized_sents  \\\n",
       "1044  [way, ahead, of, you, ., stopped, buying, afte...   \n",
       "1045  [gamers, rise, up, i, cant, believe, this, opp...   \n",
       "1046  [you, get, what, you, pay, for, supporting, ac...   \n",
       "1048  [jesus, this, is, the, dweebiest, headline, i...   \n",
       "1049  [it, should, be, at, least, 50, dollars, for, ...   \n",
       "\n",
       "                                    tokenized_postagged  \n",
       "1044  [(way, NN), (ahead, RB), (of, IN), (you, PRP),...  \n",
       "1045  [(gamers, NNS), (rise, VBP), (up, RP), (i, JJ)...  \n",
       "1046  [(you, PRP), (get, VBP), (what, WP), (you, PRP...  \n",
       "1048  [(jesus, NN), (this, DT), (is, VBZ), (the, DT)...  \n",
       "1049  [(it, PRP), (should, MD), (be, VB), (at, IN), ...  "
      ]
     },
     "execution_count": 23,
     "metadata": {},
     "output_type": "execute_result"
    }
   ],
   "source": [
    "df.tail()"
   ]
  },
  {
   "cell_type": "markdown",
   "metadata": {
    "papermill": {
     "duration": 0.082844,
     "end_time": "2021-03-31T13:18:58.730111",
     "exception": false,
     "start_time": "2021-03-31T13:18:58.647267",
     "status": "completed"
    },
    "tags": []
   },
   "source": [
    "I applied tokenization and postagging techniques to comment_body to normalize text data. After these processes, I move data for lemmatization process."
   ]
  },
  {
   "cell_type": "markdown",
   "metadata": {
    "papermill": {
     "duration": 0.083612,
     "end_time": "2021-03-31T13:18:58.901135",
     "exception": false,
     "start_time": "2021-03-31T13:18:58.817523",
     "status": "completed"
    },
    "tags": []
   },
   "source": [
    "### Lemmatization"
   ]
  },
  {
   "cell_type": "code",
   "execution_count": 24,
   "metadata": {
    "execution": {
     "iopub.execute_input": "2021-03-31T13:18:59.087311Z",
     "iopub.status.busy": "2021-03-31T13:18:59.086404Z",
     "iopub.status.idle": "2021-03-31T13:18:59.090226Z",
     "shell.execute_reply": "2021-03-31T13:18:59.089547Z"
    },
    "papermill": {
     "duration": 0.101688,
     "end_time": "2021-03-31T13:18:59.090391",
     "exception": false,
     "start_time": "2021-03-31T13:18:58.988703",
     "status": "completed"
    },
    "tags": []
   },
   "outputs": [],
   "source": [
    "from nltk import pos_tag\n",
    "from nltk.stem import WordNetLemmatizer\n",
    "from nltk.corpus import wordnet as wn\n",
    "\n",
    "lemmatizer = WordNetLemmatizer()\n",
    "\n",
    "def get_lemmatizer_pos(pos):\n",
    "    pos_start = pos[0] # Takes the first letter to simplify the POS tag\n",
    "    if pos_start == \"J\":\n",
    "        return wn.ADJ\n",
    "    elif pos_start == \"V\":\n",
    "        return wn.VERB\n",
    "    elif pos_start == \"R\":\n",
    "        return wn.ADV\n",
    "    else:\n",
    "        return wn.NOUN \n",
    "    \n",
    "    \n",
    "def lemmatize_text(text):\n",
    "\n",
    "        return [lemmatizer.lemmatize(token[0], pos=get_lemmatizer_pos(token[1])) for token in text]\n"
   ]
  },
  {
   "cell_type": "code",
   "execution_count": 25,
   "metadata": {
    "execution": {
     "iopub.execute_input": "2021-03-31T13:18:59.278064Z",
     "iopub.status.busy": "2021-03-31T13:18:59.276506Z",
     "iopub.status.idle": "2021-03-31T13:19:01.909081Z",
     "shell.execute_reply": "2021-03-31T13:19:01.908239Z"
    },
    "papermill": {
     "duration": 2.728026,
     "end_time": "2021-03-31T13:19:01.909324",
     "exception": false,
     "start_time": "2021-03-31T13:18:59.181298",
     "status": "completed"
    },
    "tags": []
   },
   "outputs": [],
   "source": [
    "df['lemmatized'] = df[\"tokenized_postagged\"].apply(lemmatize_text)"
   ]
  },
  {
   "cell_type": "code",
   "execution_count": 26,
   "metadata": {
    "execution": {
     "iopub.execute_input": "2021-03-31T13:19:02.141381Z",
     "iopub.status.busy": "2021-03-31T13:19:02.115944Z",
     "iopub.status.idle": "2021-03-31T13:19:02.172244Z",
     "shell.execute_reply": "2021-03-31T13:19:02.172842Z"
    },
    "papermill": {
     "duration": 0.172161,
     "end_time": "2021-03-31T13:19:02.173047",
     "exception": false,
     "start_time": "2021-03-31T13:19:02.000886",
     "status": "completed"
    },
    "tags": []
   },
   "outputs": [
    {
     "data": {
      "text/html": [
       "<div>\n",
       "<style scoped>\n",
       "    .dataframe tbody tr th:only-of-type {\n",
       "        vertical-align: middle;\n",
       "    }\n",
       "\n",
       "    .dataframe tbody tr th {\n",
       "        vertical-align: top;\n",
       "    }\n",
       "\n",
       "    .dataframe thead th {\n",
       "        text-align: right;\n",
       "    }\n",
       "</style>\n",
       "<table border=\"1\" class=\"dataframe\">\n",
       "  <thead>\n",
       "    <tr style=\"text-align: right;\">\n",
       "      <th></th>\n",
       "      <th>comment_id</th>\n",
       "      <th>comment_body</th>\n",
       "      <th>comment_score</th>\n",
       "      <th>unix_time</th>\n",
       "      <th>date</th>\n",
       "      <th>submission</th>\n",
       "      <th>subreddit</th>\n",
       "      <th>tokenized_sents</th>\n",
       "      <th>tokenized_postagged</th>\n",
       "      <th>lemmatized</th>\n",
       "    </tr>\n",
       "  </thead>\n",
       "  <tbody>\n",
       "    <tr>\n",
       "      <th>1044</th>\n",
       "      <td>f1e6xkw</td>\n",
       "      <td>way ahead of you. stopped buying after blops-i...</td>\n",
       "      <td>2</td>\n",
       "      <td>1.569415e+09</td>\n",
       "      <td>2019-09-25 15:29:50</td>\n",
       "      <td>d8t3km</td>\n",
       "      <td>xboxone</td>\n",
       "      <td>[way, ahead, of, you, ., stopped, buying, afte...</td>\n",
       "      <td>[(way, NN), (ahead, RB), (of, IN), (you, PRP),...</td>\n",
       "      <td>[way, ahead, of, you, ., stop, buy, after, blo...</td>\n",
       "    </tr>\n",
       "    <tr>\n",
       "      <th>1045</th>\n",
       "      <td>f1e81u9</td>\n",
       "      <td>gamers rise up i cant believe this oppression</td>\n",
       "      <td>2</td>\n",
       "      <td>1.569416e+09</td>\n",
       "      <td>2019-09-25 15:45:13</td>\n",
       "      <td>d8t3km</td>\n",
       "      <td>xboxone</td>\n",
       "      <td>[gamers, rise, up, i, cant, believe, this, opp...</td>\n",
       "      <td>[(gamers, NNS), (rise, VBP), (up, RP), (i, JJ)...</td>\n",
       "      <td>[gamers, rise, up, i, cant, believe, this, opp...</td>\n",
       "    </tr>\n",
       "    <tr>\n",
       "      <th>1046</th>\n",
       "      <td>f1e8f01</td>\n",
       "      <td>you get what you pay for supporting activision...</td>\n",
       "      <td>2</td>\n",
       "      <td>1.569416e+09</td>\n",
       "      <td>2019-09-25 15:50:06</td>\n",
       "      <td>d8t3km</td>\n",
       "      <td>xboxone</td>\n",
       "      <td>[you, get, what, you, pay, for, supporting, ac...</td>\n",
       "      <td>[(you, PRP), (get, VBP), (what, WP), (you, PRP...</td>\n",
       "      <td>[you, get, what, you, pay, for, support, activ...</td>\n",
       "    </tr>\n",
       "    <tr>\n",
       "      <th>1048</th>\n",
       "      <td>f1ee5eq</td>\n",
       "      <td>jesus this is the dweebiest headline ive ever...</td>\n",
       "      <td>2</td>\n",
       "      <td>1.569420e+09</td>\n",
       "      <td>2019-09-25 17:02:07</td>\n",
       "      <td>d8t3km</td>\n",
       "      <td>xboxone</td>\n",
       "      <td>[jesus, this, is, the, dweebiest, headline, i...</td>\n",
       "      <td>[(jesus, NN), (this, DT), (is, VBZ), (the, DT)...</td>\n",
       "      <td>[jesus, this, be, the, dweebiest, headline, i...</td>\n",
       "    </tr>\n",
       "    <tr>\n",
       "      <th>1049</th>\n",
       "      <td>f1eeb1a</td>\n",
       "      <td>it should be at least 50 dollars for xbox owners.</td>\n",
       "      <td>2</td>\n",
       "      <td>1.569420e+09</td>\n",
       "      <td>2019-09-25 17:03:54</td>\n",
       "      <td>d8t3km</td>\n",
       "      <td>xboxone</td>\n",
       "      <td>[it, should, be, at, least, 50, dollars, for, ...</td>\n",
       "      <td>[(it, PRP), (should, MD), (be, VB), (at, IN), ...</td>\n",
       "      <td>[it, should, be, at, least, 50, dollar, for, x...</td>\n",
       "    </tr>\n",
       "  </tbody>\n",
       "</table>\n",
       "</div>"
      ],
      "text/plain": [
       "     comment_id                                       comment_body  \\\n",
       "1044    f1e6xkw  way ahead of you. stopped buying after blops-i...   \n",
       "1045    f1e81u9      gamers rise up i cant believe this oppression   \n",
       "1046    f1e8f01  you get what you pay for supporting activision...   \n",
       "1048    f1ee5eq  jesus this is the dweebiest headline ive ever...   \n",
       "1049    f1eeb1a  it should be at least 50 dollars for xbox owners.   \n",
       "\n",
       "      comment_score     unix_time                 date submission subreddit  \\\n",
       "1044              2  1.569415e+09  2019-09-25 15:29:50     d8t3km   xboxone   \n",
       "1045              2  1.569416e+09  2019-09-25 15:45:13     d8t3km   xboxone   \n",
       "1046              2  1.569416e+09  2019-09-25 15:50:06     d8t3km   xboxone   \n",
       "1048              2  1.569420e+09  2019-09-25 17:02:07     d8t3km   xboxone   \n",
       "1049              2  1.569420e+09  2019-09-25 17:03:54     d8t3km   xboxone   \n",
       "\n",
       "                                        tokenized_sents  \\\n",
       "1044  [way, ahead, of, you, ., stopped, buying, afte...   \n",
       "1045  [gamers, rise, up, i, cant, believe, this, opp...   \n",
       "1046  [you, get, what, you, pay, for, supporting, ac...   \n",
       "1048  [jesus, this, is, the, dweebiest, headline, i...   \n",
       "1049  [it, should, be, at, least, 50, dollars, for, ...   \n",
       "\n",
       "                                    tokenized_postagged  \\\n",
       "1044  [(way, NN), (ahead, RB), (of, IN), (you, PRP),...   \n",
       "1045  [(gamers, NNS), (rise, VBP), (up, RP), (i, JJ)...   \n",
       "1046  [(you, PRP), (get, VBP), (what, WP), (you, PRP...   \n",
       "1048  [(jesus, NN), (this, DT), (is, VBZ), (the, DT)...   \n",
       "1049  [(it, PRP), (should, MD), (be, VB), (at, IN), ...   \n",
       "\n",
       "                                             lemmatized  \n",
       "1044  [way, ahead, of, you, ., stop, buy, after, blo...  \n",
       "1045  [gamers, rise, up, i, cant, believe, this, opp...  \n",
       "1046  [you, get, what, you, pay, for, support, activ...  \n",
       "1048  [jesus, this, be, the, dweebiest, headline, i...  \n",
       "1049  [it, should, be, at, least, 50, dollar, for, x...  "
      ]
     },
     "execution_count": 26,
     "metadata": {},
     "output_type": "execute_result"
    }
   ],
   "source": [
    "df.tail()"
   ]
  },
  {
   "cell_type": "markdown",
   "metadata": {
    "papermill": {
     "duration": 0.087296,
     "end_time": "2021-03-31T13:19:02.352330",
     "exception": false,
     "start_time": "2021-03-31T13:19:02.265034",
     "status": "completed"
    },
    "tags": []
   },
   "source": [
    "### Removing Stop Words and Punctuations"
   ]
  },
  {
   "cell_type": "code",
   "execution_count": 27,
   "metadata": {
    "execution": {
     "iopub.execute_input": "2021-03-31T13:19:02.528258Z",
     "iopub.status.busy": "2021-03-31T13:19:02.527518Z",
     "iopub.status.idle": "2021-03-31T13:19:02.537169Z",
     "shell.execute_reply": "2021-03-31T13:19:02.536439Z"
    },
    "papermill": {
     "duration": 0.100161,
     "end_time": "2021-03-31T13:19:02.537325",
     "exception": false,
     "start_time": "2021-03-31T13:19:02.437164",
     "status": "completed"
    },
    "tags": []
   },
   "outputs": [],
   "source": [
    "from nltk.corpus import stopwords  \n",
    "from nltk.tokenize import word_tokenize  \n",
    "  \n",
    "stop_words = set(stopwords.words('english')) \n",
    "stop_words.update([\"the\", '...' , '--' , \"''\" , '``' , \"'s\"])\n",
    "punct = \"!\\\"“”#$%&'‘’()*+,-./:;<=>?@[\\]^_`{|}~‍\"\n"
   ]
  },
  {
   "cell_type": "markdown",
   "metadata": {
    "papermill": {
     "duration": 0.085611,
     "end_time": "2021-03-31T13:19:02.711105",
     "exception": false,
     "start_time": "2021-03-31T13:19:02.625494",
     "status": "completed"
    },
    "tags": []
   },
   "source": [
    "I also updated stop words after some analysis, some punctuations are occurred quite often, and it may be because of the lingo of the community."
   ]
  },
  {
   "cell_type": "code",
   "execution_count": 28,
   "metadata": {
    "execution": {
     "iopub.execute_input": "2021-03-31T13:19:02.894337Z",
     "iopub.status.busy": "2021-03-31T13:19:02.893553Z",
     "iopub.status.idle": "2021-03-31T13:19:02.910980Z",
     "shell.execute_reply": "2021-03-31T13:19:02.910198Z"
    },
    "papermill": {
     "duration": 0.112414,
     "end_time": "2021-03-31T13:19:02.911142",
     "exception": false,
     "start_time": "2021-03-31T13:19:02.798728",
     "status": "completed"
    },
    "tags": []
   },
   "outputs": [],
   "source": [
    "for item in df[\"lemmatized\"]:\n",
    "    for word in item:\n",
    "        if word in stop_words:\n",
    "            item.remove(word)"
   ]
  },
  {
   "cell_type": "code",
   "execution_count": 29,
   "metadata": {
    "execution": {
     "iopub.execute_input": "2021-03-31T13:19:03.103931Z",
     "iopub.status.busy": "2021-03-31T13:19:03.103148Z",
     "iopub.status.idle": "2021-03-31T13:19:03.107924Z",
     "shell.execute_reply": "2021-03-31T13:19:03.107214Z"
    },
    "papermill": {
     "duration": 0.10465,
     "end_time": "2021-03-31T13:19:03.108215",
     "exception": false,
     "start_time": "2021-03-31T13:19:03.003565",
     "status": "completed"
    },
    "tags": []
   },
   "outputs": [],
   "source": [
    "for item in df[\"lemmatized\"]:\n",
    "    for word in item:        \n",
    "        if word in punct:\n",
    "            item.remove(word)"
   ]
  },
  {
   "cell_type": "markdown",
   "metadata": {
    "papermill": {
     "duration": 0.11112,
     "end_time": "2021-03-31T13:19:03.302072",
     "exception": false,
     "start_time": "2021-03-31T13:19:03.190952",
     "status": "completed"
    },
    "tags": []
   },
   "source": [
    "These 2 for loops does not work sometimes, I don't know the reason of it but when I use them twice, they remove stop words and punctuations, and work properly."
   ]
  },
  {
   "cell_type": "code",
   "execution_count": 30,
   "metadata": {
    "execution": {
     "iopub.execute_input": "2021-03-31T13:19:03.490123Z",
     "iopub.status.busy": "2021-03-31T13:19:03.489132Z",
     "iopub.status.idle": "2021-03-31T13:19:03.494282Z",
     "shell.execute_reply": "2021-03-31T13:19:03.495371Z"
    },
    "papermill": {
     "duration": 0.094138,
     "end_time": "2021-03-31T13:19:03.495646",
     "exception": false,
     "start_time": "2021-03-31T13:19:03.401508",
     "status": "completed"
    },
    "tags": []
   },
   "outputs": [
    {
     "name": "stdout",
     "output_type": "stream",
     "text": [
      "{'be', 'mustn', 'with', 'to', \"should've\", 've', 'above', 'where', 'here', 'from', 'more', 'haven', 'when', 'themselves', 'isn', 'does', \"it's\", 'while', 'than', 'same', 'should', 'himself', 'through', 'having', 'its', 'whom', \"you'll\", 'any', 'both', \"isn't\", \"you'd\", \"shouldn't\", 'yours', 'me', 'doing', 'until', 'an', 'shan', 'only', 'you', 'am', 'before', 'no', 'ma', 'being', 's', 'd', '``', \"'s\", 'a', 'at', 'how', 'who', \"weren't\", \"she's\", 'shouldn', 'against', 'been', 'which', 'did', 'once', '--', 'off', 'hers', \"wouldn't\", 'out', \"didn't\", 'nor', 'so', 'will', 'some', 'below', 'aren', 'he', \"needn't\", 'up', 'is', 'i', 'didn', 'myself', 'your', 'their', 'because', 'too', 'after', 'this', 'are', 'him', 'during', \"you're\", 'her', 're', 'few', \"aren't\", 'by', 'can', 'was', 'why', \"you've\", 'now', \"don't\", 'were', 'there', 'we', 'had', 'down', 'our', 'the', \"mightn't\", 'then', \"hadn't\", 'other', \"hasn't\", 'under', 'just', 'has', 'itself', 'ourselves', 'm', \"doesn't\", 'that', 'y', 'do', 'wouldn', \"haven't\", 'but', \"shan't\", 'again', 'o', 'these', 'll', 'in', 'doesn', 'for', 'such', 'herself', 'most', \"wasn't\", 'theirs', \"that'll\", 'further', 'all', 'my', 'yourself', 'wasn', 'own', 'between', 'those', 'ours', \"won't\", 'she', 'it', 'into', 'very', 'hasn', 'over', 'they', 'have', 'couldn', 'or', 'mightn', '...', 'his', \"mustn't\", 'won', 'not', 'and', 'them', \"couldn't\", 'ain', 'about', 'yourselves', 'each', 'on', 'what', 'weren', 'needn', 'as', 'hadn', 'don', 't', \"''\", 'of', 'if'}\n"
     ]
    }
   ],
   "source": [
    "print(stop_words)"
   ]
  },
  {
   "cell_type": "code",
   "execution_count": 31,
   "metadata": {
    "execution": {
     "iopub.execute_input": "2021-03-31T13:19:03.723883Z",
     "iopub.status.busy": "2021-03-31T13:19:03.689725Z",
     "iopub.status.idle": "2021-03-31T13:19:03.747221Z",
     "shell.execute_reply": "2021-03-31T13:19:03.747791Z"
    },
    "papermill": {
     "duration": 0.168872,
     "end_time": "2021-03-31T13:19:03.747996",
     "exception": false,
     "start_time": "2021-03-31T13:19:03.579124",
     "status": "completed"
    },
    "tags": []
   },
   "outputs": [
    {
     "data": {
      "text/html": [
       "<div>\n",
       "<style scoped>\n",
       "    .dataframe tbody tr th:only-of-type {\n",
       "        vertical-align: middle;\n",
       "    }\n",
       "\n",
       "    .dataframe tbody tr th {\n",
       "        vertical-align: top;\n",
       "    }\n",
       "\n",
       "    .dataframe thead th {\n",
       "        text-align: right;\n",
       "    }\n",
       "</style>\n",
       "<table border=\"1\" class=\"dataframe\">\n",
       "  <thead>\n",
       "    <tr style=\"text-align: right;\">\n",
       "      <th></th>\n",
       "      <th>comment_id</th>\n",
       "      <th>comment_body</th>\n",
       "      <th>comment_score</th>\n",
       "      <th>unix_time</th>\n",
       "      <th>date</th>\n",
       "      <th>submission</th>\n",
       "      <th>subreddit</th>\n",
       "      <th>tokenized_sents</th>\n",
       "      <th>tokenized_postagged</th>\n",
       "      <th>lemmatized</th>\n",
       "    </tr>\n",
       "  </thead>\n",
       "  <tbody>\n",
       "    <tr>\n",
       "      <th>1044</th>\n",
       "      <td>f1e6xkw</td>\n",
       "      <td>way ahead of you. stopped buying after blops-i...</td>\n",
       "      <td>2</td>\n",
       "      <td>1.569415e+09</td>\n",
       "      <td>2019-09-25 15:29:50</td>\n",
       "      <td>d8t3km</td>\n",
       "      <td>xboxone</td>\n",
       "      <td>[way, ahead, of, you, ., stopped, buying, afte...</td>\n",
       "      <td>[(way, NN), (ahead, RB), (of, IN), (you, PRP),...</td>\n",
       "      <td>[way, ahead, you, stop, buy, blops-it, the, ga...</td>\n",
       "    </tr>\n",
       "    <tr>\n",
       "      <th>1045</th>\n",
       "      <td>f1e81u9</td>\n",
       "      <td>gamers rise up i cant believe this oppression</td>\n",
       "      <td>2</td>\n",
       "      <td>1.569416e+09</td>\n",
       "      <td>2019-09-25 15:45:13</td>\n",
       "      <td>d8t3km</td>\n",
       "      <td>xboxone</td>\n",
       "      <td>[gamers, rise, up, i, cant, believe, this, opp...</td>\n",
       "      <td>[(gamers, NNS), (rise, VBP), (up, RP), (i, JJ)...</td>\n",
       "      <td>[gamers, rise, i, cant, believe, oppression]</td>\n",
       "    </tr>\n",
       "    <tr>\n",
       "      <th>1046</th>\n",
       "      <td>f1e8f01</td>\n",
       "      <td>you get what you pay for supporting activision...</td>\n",
       "      <td>2</td>\n",
       "      <td>1.569416e+09</td>\n",
       "      <td>2019-09-25 15:50:06</td>\n",
       "      <td>d8t3km</td>\n",
       "      <td>xboxone</td>\n",
       "      <td>[you, get, what, you, pay, for, supporting, ac...</td>\n",
       "      <td>[(you, PRP), (get, VBP), (what, WP), (you, PRP...</td>\n",
       "      <td>[get, you, pay, support, activision, happen, d...</td>\n",
       "    </tr>\n",
       "    <tr>\n",
       "      <th>1048</th>\n",
       "      <td>f1ee5eq</td>\n",
       "      <td>jesus this is the dweebiest headline ive ever...</td>\n",
       "      <td>2</td>\n",
       "      <td>1.569420e+09</td>\n",
       "      <td>2019-09-25 17:02:07</td>\n",
       "      <td>d8t3km</td>\n",
       "      <td>xboxone</td>\n",
       "      <td>[jesus, this, is, the, dweebiest, headline, i...</td>\n",
       "      <td>[(jesus, NN), (this, DT), (is, VBZ), (the, DT)...</td>\n",
       "      <td>[jesus, be, dweebiest, headline, ive, ever, see]</td>\n",
       "    </tr>\n",
       "    <tr>\n",
       "      <th>1049</th>\n",
       "      <td>f1eeb1a</td>\n",
       "      <td>it should be at least 50 dollars for xbox owners.</td>\n",
       "      <td>2</td>\n",
       "      <td>1.569420e+09</td>\n",
       "      <td>2019-09-25 17:03:54</td>\n",
       "      <td>d8t3km</td>\n",
       "      <td>xboxone</td>\n",
       "      <td>[it, should, be, at, least, 50, dollars, for, ...</td>\n",
       "      <td>[(it, PRP), (should, MD), (be, VB), (at, IN), ...</td>\n",
       "      <td>[should, at, least, 50, dollar, xbox, owner]</td>\n",
       "    </tr>\n",
       "  </tbody>\n",
       "</table>\n",
       "</div>"
      ],
      "text/plain": [
       "     comment_id                                       comment_body  \\\n",
       "1044    f1e6xkw  way ahead of you. stopped buying after blops-i...   \n",
       "1045    f1e81u9      gamers rise up i cant believe this oppression   \n",
       "1046    f1e8f01  you get what you pay for supporting activision...   \n",
       "1048    f1ee5eq  jesus this is the dweebiest headline ive ever...   \n",
       "1049    f1eeb1a  it should be at least 50 dollars for xbox owners.   \n",
       "\n",
       "      comment_score     unix_time                 date submission subreddit  \\\n",
       "1044              2  1.569415e+09  2019-09-25 15:29:50     d8t3km   xboxone   \n",
       "1045              2  1.569416e+09  2019-09-25 15:45:13     d8t3km   xboxone   \n",
       "1046              2  1.569416e+09  2019-09-25 15:50:06     d8t3km   xboxone   \n",
       "1048              2  1.569420e+09  2019-09-25 17:02:07     d8t3km   xboxone   \n",
       "1049              2  1.569420e+09  2019-09-25 17:03:54     d8t3km   xboxone   \n",
       "\n",
       "                                        tokenized_sents  \\\n",
       "1044  [way, ahead, of, you, ., stopped, buying, afte...   \n",
       "1045  [gamers, rise, up, i, cant, believe, this, opp...   \n",
       "1046  [you, get, what, you, pay, for, supporting, ac...   \n",
       "1048  [jesus, this, is, the, dweebiest, headline, i...   \n",
       "1049  [it, should, be, at, least, 50, dollars, for, ...   \n",
       "\n",
       "                                    tokenized_postagged  \\\n",
       "1044  [(way, NN), (ahead, RB), (of, IN), (you, PRP),...   \n",
       "1045  [(gamers, NNS), (rise, VBP), (up, RP), (i, JJ)...   \n",
       "1046  [(you, PRP), (get, VBP), (what, WP), (you, PRP...   \n",
       "1048  [(jesus, NN), (this, DT), (is, VBZ), (the, DT)...   \n",
       "1049  [(it, PRP), (should, MD), (be, VB), (at, IN), ...   \n",
       "\n",
       "                                             lemmatized  \n",
       "1044  [way, ahead, you, stop, buy, blops-it, the, ga...  \n",
       "1045       [gamers, rise, i, cant, believe, oppression]  \n",
       "1046  [get, you, pay, support, activision, happen, d...  \n",
       "1048  [jesus, be, dweebiest, headline, ive, ever, see]  \n",
       "1049       [should, at, least, 50, dollar, xbox, owner]  "
      ]
     },
     "execution_count": 31,
     "metadata": {},
     "output_type": "execute_result"
    }
   ],
   "source": [
    "df.tail(5)"
   ]
  },
  {
   "cell_type": "markdown",
   "metadata": {
    "papermill": {
     "duration": 0.088654,
     "end_time": "2021-03-31T13:19:03.924599",
     "exception": false,
     "start_time": "2021-03-31T13:19:03.835945",
     "status": "completed"
    },
    "tags": []
   },
   "source": [
    "# Word Frequencies"
   ]
  },
  {
   "cell_type": "markdown",
   "metadata": {
    "papermill": {
     "duration": 0.091974,
     "end_time": "2021-03-31T13:19:04.109676",
     "exception": false,
     "start_time": "2021-03-31T13:19:04.017702",
     "status": "completed"
    },
    "tags": []
   },
   "source": [
    "Now, I split these 2 communities to analyze their usage of words and the sentiment scores of their comments."
   ]
  },
  {
   "cell_type": "code",
   "execution_count": 32,
   "metadata": {
    "execution": {
     "iopub.execute_input": "2021-03-31T13:19:04.301596Z",
     "iopub.status.busy": "2021-03-31T13:19:04.300471Z",
     "iopub.status.idle": "2021-03-31T13:19:04.309515Z",
     "shell.execute_reply": "2021-03-31T13:19:04.310180Z"
    },
    "papermill": {
     "duration": 0.105066,
     "end_time": "2021-03-31T13:19:04.310429",
     "exception": false,
     "start_time": "2021-03-31T13:19:04.205363",
     "status": "completed"
    },
    "tags": []
   },
   "outputs": [],
   "source": [
    "dfps = df.loc[df['subreddit'] ==\"PS4\"]\n",
    "dfxbox = df.loc[df['subreddit'] ==\"xboxone\"]"
   ]
  },
  {
   "cell_type": "code",
   "execution_count": 33,
   "metadata": {
    "execution": {
     "iopub.execute_input": "2021-03-31T13:19:04.498136Z",
     "iopub.status.busy": "2021-03-31T13:19:04.497127Z",
     "iopub.status.idle": "2021-03-31T13:19:04.501798Z",
     "shell.execute_reply": "2021-03-31T13:19:04.502308Z"
    },
    "papermill": {
     "duration": 0.098203,
     "end_time": "2021-03-31T13:19:04.502515",
     "exception": false,
     "start_time": "2021-03-31T13:19:04.404312",
     "status": "completed"
    },
    "scrolled": false,
    "tags": []
   },
   "outputs": [],
   "source": [
    "from nltk.probability import FreqDist\n",
    "fdist_ps = FreqDist()"
   ]
  },
  {
   "cell_type": "code",
   "execution_count": 34,
   "metadata": {
    "execution": {
     "iopub.execute_input": "2021-03-31T13:19:04.689555Z",
     "iopub.status.busy": "2021-03-31T13:19:04.688514Z",
     "iopub.status.idle": "2021-03-31T13:19:04.708729Z",
     "shell.execute_reply": "2021-03-31T13:19:04.709569Z"
    },
    "papermill": {
     "duration": 0.114764,
     "end_time": "2021-03-31T13:19:04.709924",
     "exception": false,
     "start_time": "2021-03-31T13:19:04.595160",
     "status": "completed"
    },
    "scrolled": true,
    "tags": []
   },
   "outputs": [
    {
     "name": "stdout",
     "output_type": "stream",
     "text": [
      "20 most used words in XBOX community:  \n",
      " [('be', 238), ('the', 218), ('game', 168), ('a', 147), ('get', 107), ('this', 106), ('i', 102), (\"n't\", 91), ('buy', 91), ('xbox', 84), ('play', 74), ('year', 69), ('it', 67), ('like', 65), ('go', 59), ('have', 57), ('make', 56), ('fuck', 53), ('people', 52), ('to', 51)]\n"
     ]
    }
   ],
   "source": [
    "fdist_xbox = FreqDist()\n",
    "\n",
    "for word in dfxbox[\"lemmatized\"]:    \n",
    "    for i in word:\n",
    "        fdist_xbox[i.lower()]+= 1\n",
    "print(\"20 most used words in XBOX community:  \\n {}\".format(fdist_xbox.most_common(20)))        \n"
   ]
  },
  {
   "cell_type": "code",
   "execution_count": 35,
   "metadata": {
    "execution": {
     "iopub.execute_input": "2021-03-31T13:19:04.887735Z",
     "iopub.status.busy": "2021-03-31T13:19:04.887082Z",
     "iopub.status.idle": "2021-03-31T13:19:04.893164Z",
     "shell.execute_reply": "2021-03-31T13:19:04.893695Z"
    },
    "papermill": {
     "duration": 0.095723,
     "end_time": "2021-03-31T13:19:04.893918",
     "exception": false,
     "start_time": "2021-03-31T13:19:04.798195",
     "status": "completed"
    },
    "tags": []
   },
   "outputs": [
    {
     "data": {
      "text/plain": [
       "9950"
      ]
     },
     "execution_count": 35,
     "metadata": {},
     "output_type": "execute_result"
    }
   ],
   "source": [
    "fdist_xbox.N() # total number of samples"
   ]
  },
  {
   "cell_type": "code",
   "execution_count": 36,
   "metadata": {
    "execution": {
     "iopub.execute_input": "2021-03-31T13:19:05.078059Z",
     "iopub.status.busy": "2021-03-31T13:19:05.077252Z",
     "iopub.status.idle": "2021-03-31T13:19:05.379120Z",
     "shell.execute_reply": "2021-03-31T13:19:05.379632Z"
    },
    "papermill": {
     "duration": 0.395992,
     "end_time": "2021-03-31T13:19:05.379845",
     "exception": false,
     "start_time": "2021-03-31T13:19:04.983853",
     "status": "completed"
    },
    "scrolled": true,
    "tags": []
   },
   "outputs": [
    {
     "data": {
      "image/png": "[encoded data removed]",
      "text/plain": [
       "<Figure size 432x288 with 1 Axes>"
      ]
     },
     "metadata": {
      "needs_background": "light"
     },
     "output_type": "display_data"
    }
   ],
   "source": [
    "fdist_xbox.plot(20)"
   ]
  },
  {
   "cell_type": "code",
   "execution_count": 37,
   "metadata": {
    "execution": {
     "iopub.execute_input": "2021-03-31T13:19:05.578463Z",
     "iopub.status.busy": "2021-03-31T13:19:05.577703Z",
     "iopub.status.idle": "2021-03-31T13:19:05.583800Z",
     "shell.execute_reply": "2021-03-31T13:19:05.582873Z"
    },
    "papermill": {
     "duration": 0.108457,
     "end_time": "2021-03-31T13:19:05.583971",
     "exception": false,
     "start_time": "2021-03-31T13:19:05.475514",
     "status": "completed"
    },
    "tags": []
   },
   "outputs": [
    {
     "name": "stdout",
     "output_type": "stream",
     "text": [
      "Percentage of usage of like word in xbox group is: 0.00914572864321608\n"
     ]
    }
   ],
   "source": [
    "print(\"Percentage of usage of like word in xbox group is: {}\".format(fdist_xbox.most_common(15)[7][1] / fdist_xbox.N())) "
   ]
  },
  {
   "cell_type": "code",
   "execution_count": 38,
   "metadata": {
    "execution": {
     "iopub.execute_input": "2021-03-31T13:19:05.768990Z",
     "iopub.status.busy": "2021-03-31T13:19:05.768055Z",
     "iopub.status.idle": "2021-03-31T13:19:05.771404Z",
     "shell.execute_reply": "2021-03-31T13:19:05.772036Z"
    },
    "papermill": {
     "duration": 0.095842,
     "end_time": "2021-03-31T13:19:05.772235",
     "exception": false,
     "start_time": "2021-03-31T13:19:05.676393",
     "status": "completed"
    },
    "tags": []
   },
   "outputs": [
    {
     "name": "stdout",
     "output_type": "stream",
     "text": [
      "Percentage of usage of fuck word in xbox group is: 0.007437185929648241\n"
     ]
    }
   ],
   "source": [
    "print(\"Percentage of usage of fuck word in xbox group is: {}\".format(fdist_xbox.most_common(15)[10][1] / fdist_xbox.N())) "
   ]
  },
  {
   "cell_type": "code",
   "execution_count": 39,
   "metadata": {
    "execution": {
     "iopub.execute_input": "2021-03-31T13:19:05.968860Z",
     "iopub.status.busy": "2021-03-31T13:19:05.967743Z",
     "iopub.status.idle": "2021-03-31T13:19:05.972801Z",
     "shell.execute_reply": "2021-03-31T13:19:05.972084Z"
    },
    "papermill": {
     "duration": 0.105942,
     "end_time": "2021-03-31T13:19:05.973024",
     "exception": false,
     "start_time": "2021-03-31T13:19:05.867082",
     "status": "completed"
    },
    "scrolled": true,
    "tags": []
   },
   "outputs": [
    {
     "name": "stdout",
     "output_type": "stream",
     "text": [
      "Percentage of usage of shit word in xbox group is: 0.006532663316582915\n"
     ]
    }
   ],
   "source": [
    "print(\"Percentage of usage of shit word in xbox group is: {}\".format(fdist_xbox.most_common(15)[13][1] / fdist_xbox.N())) "
   ]
  },
  {
   "cell_type": "code",
   "execution_count": 40,
   "metadata": {
    "execution": {
     "iopub.execute_input": "2021-03-31T13:19:06.170208Z",
     "iopub.status.busy": "2021-03-31T13:19:06.165194Z",
     "iopub.status.idle": "2021-03-31T13:19:06.189204Z",
     "shell.execute_reply": "2021-03-31T13:19:06.187405Z"
    },
    "papermill": {
     "duration": 0.121706,
     "end_time": "2021-03-31T13:19:06.189449",
     "exception": false,
     "start_time": "2021-03-31T13:19:06.067743",
     "status": "completed"
    },
    "tags": []
   },
   "outputs": [
    {
     "name": "stdout",
     "output_type": "stream",
     "text": [
      "20 most used words in PS4 community:\n"
     ]
    },
    {
     "data": {
      "text/plain": [
       "[('the', 340),\n",
       " ('be', 278),\n",
       " ('game', 258),\n",
       " ('a', 204),\n",
       " ('sony', 193),\n",
       " ('i', 191),\n",
       " ('play', 169),\n",
       " (\"n't\", 152),\n",
       " ('ps4', 151),\n",
       " ('get', 142),\n",
       " ('this', 111),\n",
       " ('my', 108),\n",
       " ('it', 108),\n",
       " ('account', 104),\n",
       " ('do', 101),\n",
       " ('have', 98),\n",
       " ('you', 95),\n",
       " ('like', 90),\n",
       " ('player', 89),\n",
       " ('make', 82)]"
      ]
     },
     "execution_count": 40,
     "metadata": {},
     "output_type": "execute_result"
    }
   ],
   "source": [
    "for word in dfps[\"lemmatized\"]:    \n",
    "    for i in word:\n",
    "        fdist_ps[i.lower()]+= 1\n",
    "print(\"20 most used words in PS4 community:\")  \n",
    "fdist_ps.most_common(20) "
   ]
  },
  {
   "cell_type": "code",
   "execution_count": 41,
   "metadata": {
    "execution": {
     "iopub.execute_input": "2021-03-31T13:19:06.373664Z",
     "iopub.status.busy": "2021-03-31T13:19:06.372732Z",
     "iopub.status.idle": "2021-03-31T13:19:06.379593Z",
     "shell.execute_reply": "2021-03-31T13:19:06.378864Z"
    },
    "papermill": {
     "duration": 0.099097,
     "end_time": "2021-03-31T13:19:06.379820",
     "exception": false,
     "start_time": "2021-03-31T13:19:06.280723",
     "status": "completed"
    },
    "tags": []
   },
   "outputs": [
    {
     "data": {
      "text/plain": [
       "13738"
      ]
     },
     "execution_count": 41,
     "metadata": {},
     "output_type": "execute_result"
    }
   ],
   "source": [
    "fdist_ps.N() # total number of samples"
   ]
  },
  {
   "cell_type": "code",
   "execution_count": 42,
   "metadata": {
    "execution": {
     "iopub.execute_input": "2021-03-31T13:19:06.578914Z",
     "iopub.status.busy": "2021-03-31T13:19:06.578133Z",
     "iopub.status.idle": "2021-03-31T13:19:06.811747Z",
     "shell.execute_reply": "2021-03-31T13:19:06.812360Z"
    },
    "papermill": {
     "duration": 0.331199,
     "end_time": "2021-03-31T13:19:06.812570",
     "exception": false,
     "start_time": "2021-03-31T13:19:06.481371",
     "status": "completed"
    },
    "scrolled": true,
    "tags": []
   },
   "outputs": [
    {
     "data": {
      "image/png": "[encoded data removed]",
      "text/plain": [
       "<Figure size 432x288 with 1 Axes>"
      ]
     },
     "metadata": {
      "needs_background": "light"
     },
     "output_type": "display_data"
    }
   ],
   "source": [
    "fdist_ps.plot(20)"
   ]
  },
  {
   "cell_type": "code",
   "execution_count": 43,
   "metadata": {
    "execution": {
     "iopub.execute_input": "2021-03-31T13:19:07.003532Z",
     "iopub.status.busy": "2021-03-31T13:19:07.002817Z",
     "iopub.status.idle": "2021-03-31T13:19:07.010091Z",
     "shell.execute_reply": "2021-03-31T13:19:07.009029Z"
    },
    "papermill": {
     "duration": 0.106086,
     "end_time": "2021-03-31T13:19:07.010294",
     "exception": false,
     "start_time": "2021-03-31T13:19:06.904208",
     "status": "completed"
    },
    "scrolled": true,
    "tags": []
   },
   "outputs": [
    {
     "name": "stdout",
     "output_type": "stream",
     "text": [
      "Percentage of usage of like word in PS4 group is: 0.00914572864321608\n"
     ]
    }
   ],
   "source": [
    "print(\"Percentage of usage of like word in PS4 group is: {}\".format(fdist_xbox.most_common(15)[8][1] / fdist_xbox.N())) "
   ]
  },
  {
   "cell_type": "markdown",
   "metadata": {
    "papermill": {
     "duration": 0.090486,
     "end_time": "2021-03-31T13:19:07.197879",
     "exception": false,
     "start_time": "2021-03-31T13:19:07.107393",
     "status": "completed"
    },
    "tags": []
   },
   "source": [
    "The selection of words by community in comments are seems slightly more polite in PS4 community."
   ]
  },
  {
   "cell_type": "markdown",
   "metadata": {
    "papermill": {
     "duration": 0.098804,
     "end_time": "2021-03-31T13:19:07.388592",
     "exception": false,
     "start_time": "2021-03-31T13:19:07.289788",
     "status": "completed"
    },
    "tags": []
   },
   "source": [
    "### WordClouds "
   ]
  },
  {
   "cell_type": "markdown",
   "metadata": {
    "papermill": {
     "duration": 0.094936,
     "end_time": "2021-03-31T13:19:07.573734",
     "exception": false,
     "start_time": "2021-03-31T13:19:07.478798",
     "status": "completed"
    },
    "tags": []
   },
   "source": [
    "Wordclouds is another popular method to visualize popular words used in documents."
   ]
  },
  {
   "cell_type": "code",
   "execution_count": 44,
   "metadata": {
    "execution": {
     "iopub.execute_input": "2021-03-31T13:19:07.758529Z",
     "iopub.status.busy": "2021-03-31T13:19:07.757561Z",
     "iopub.status.idle": "2021-03-31T13:19:07.813501Z",
     "shell.execute_reply": "2021-03-31T13:19:07.812929Z"
    },
    "papermill": {
     "duration": 0.15092,
     "end_time": "2021-03-31T13:19:07.813652",
     "exception": false,
     "start_time": "2021-03-31T13:19:07.662732",
     "status": "completed"
    },
    "tags": []
   },
   "outputs": [],
   "source": [
    "from wordcloud import WordCloud\n",
    "from matplotlib import pyplot as plt"
   ]
  },
  {
   "cell_type": "code",
   "execution_count": 45,
   "metadata": {
    "execution": {
     "iopub.execute_input": "2021-03-31T13:19:08.016813Z",
     "iopub.status.busy": "2021-03-31T13:19:08.015611Z",
     "iopub.status.idle": "2021-03-31T13:19:08.021963Z",
     "shell.execute_reply": "2021-03-31T13:19:08.021326Z"
    },
    "papermill": {
     "duration": 0.114825,
     "end_time": "2021-03-31T13:19:08.022126",
     "exception": false,
     "start_time": "2021-03-31T13:19:07.907301",
     "status": "completed"
    },
    "tags": []
   },
   "outputs": [
    {
     "name": "stdout",
     "output_type": "stream",
     "text": [
      "There are 119729 words in the combination of all review.\n"
     ]
    }
   ],
   "source": [
    "txt = dfps['lemmatized'].astype(str)\n",
    "text = \" \".join(review for review in txt)\n",
    "print (\"There are {} words in the combination of all review.\".format(len(text)))"
   ]
  },
  {
   "cell_type": "code",
   "execution_count": 46,
   "metadata": {
    "execution": {
     "iopub.execute_input": "2021-03-31T13:19:08.230095Z",
     "iopub.status.busy": "2021-03-31T13:19:08.229045Z",
     "iopub.status.idle": "2021-03-31T13:19:08.953947Z",
     "shell.execute_reply": "2021-03-31T13:19:08.953088Z"
    },
    "papermill": {
     "duration": 0.826569,
     "end_time": "2021-03-31T13:19:08.954118",
     "exception": false,
     "start_time": "2021-03-31T13:19:08.127549",
     "status": "completed"
    },
    "tags": []
   },
   "outputs": [
    {
     "data": {
      "image/png": "[encoded data removed]",
      "text/plain": [
       "<Figure size 432x288 with 1 Axes>"
      ]
     },
     "metadata": {
      "needs_background": "light"
     },
     "output_type": "display_data"
    },
    {
     "name": "stdout",
     "output_type": "stream",
     "text": [
      "Wordcloud of PS Community\n"
     ]
    }
   ],
   "source": [
    "wordcloud = WordCloud().generate(text)\n",
    "\n",
    "# Display the generated image:\n",
    "plt.imshow(wordcloud, interpolation='bilinear')\n",
    "plt.axis(\"off\")\n",
    "plt.show()\n",
    "print(\"Wordcloud of PS Community\")"
   ]
  },
  {
   "cell_type": "code",
   "execution_count": 47,
   "metadata": {
    "execution": {
     "iopub.execute_input": "2021-03-31T13:19:09.168750Z",
     "iopub.status.busy": "2021-03-31T13:19:09.168053Z",
     "iopub.status.idle": "2021-03-31T13:19:09.172579Z",
     "shell.execute_reply": "2021-03-31T13:19:09.173383Z"
    },
    "papermill": {
     "duration": 0.115331,
     "end_time": "2021-03-31T13:19:09.174068",
     "exception": false,
     "start_time": "2021-03-31T13:19:09.058737",
     "status": "completed"
    },
    "tags": []
   },
   "outputs": [
    {
     "name": "stdout",
     "output_type": "stream",
     "text": [
      "There are 87799 words in the combination of all review.\n"
     ]
    }
   ],
   "source": [
    "txt2 = dfxbox['lemmatized'].astype(str)\n",
    "text2 = \" \".join(review for review in txt2)\n",
    "print (\"There are {} words in the combination of all review.\".format(len(text2)))"
   ]
  },
  {
   "cell_type": "code",
   "execution_count": 48,
   "metadata": {
    "execution": {
     "iopub.execute_input": "2021-03-31T13:19:09.396412Z",
     "iopub.status.busy": "2021-03-31T13:19:09.391395Z",
     "iopub.status.idle": "2021-03-31T13:19:10.037144Z",
     "shell.execute_reply": "2021-03-31T13:19:10.036371Z"
    },
    "papermill": {
     "duration": 0.761439,
     "end_time": "2021-03-31T13:19:10.037315",
     "exception": false,
     "start_time": "2021-03-31T13:19:09.275876",
     "status": "completed"
    },
    "scrolled": false,
    "tags": []
   },
   "outputs": [
    {
     "data": {
      "image/png": "[encoded data removed]",
      "text/plain": [
       "<Figure size 432x288 with 1 Axes>"
      ]
     },
     "metadata": {
      "needs_background": "light"
     },
     "output_type": "display_data"
    },
    {
     "name": "stdout",
     "output_type": "stream",
     "text": [
      "Wordcloud of XBOX community\n"
     ]
    }
   ],
   "source": [
    "wordcloud = WordCloud().generate(text2)\n",
    "\n",
    "# Display the generated image:\n",
    "plt.imshow(wordcloud, interpolation='bilinear')\n",
    "plt.axis(\"off\")\n",
    "plt.show()\n",
    "print(\"Wordcloud of XBOX community\")"
   ]
  },
  {
   "cell_type": "markdown",
   "metadata": {
    "papermill": {
     "duration": 0.106043,
     "end_time": "2021-03-31T13:19:10.249476",
     "exception": false,
     "start_time": "2021-03-31T13:19:10.143433",
     "status": "completed"
    },
    "tags": []
   },
   "source": [
    "After these analyzing steps, now I can form and test my hypotheses."
   ]
  },
  {
   "cell_type": "markdown",
   "metadata": {
    "papermill": {
     "duration": 0.109775,
     "end_time": "2021-03-31T13:19:10.465432",
     "exception": false,
     "start_time": "2021-03-31T13:19:10.355657",
     "status": "completed"
    },
    "tags": []
   },
   "source": [
    "# Hypothesis 1"
   ]
  },
  {
   "cell_type": "code",
   "execution_count": 49,
   "metadata": {
    "execution": {
     "iopub.execute_input": "2021-03-31T13:19:10.695604Z",
     "iopub.status.busy": "2021-03-31T13:19:10.685333Z",
     "iopub.status.idle": "2021-03-31T13:19:31.005429Z",
     "shell.execute_reply": "2021-03-31T13:19:31.004697Z"
    },
    "papermill": {
     "duration": 20.434889,
     "end_time": "2021-03-31T13:19:31.005585",
     "exception": false,
     "start_time": "2021-03-31T13:19:10.570696",
     "status": "completed"
    },
    "tags": []
   },
   "outputs": [
    {
     "name": "stdout",
     "output_type": "stream",
     "text": [
      "Collecting scikit_posthocs\r\n",
      "  Downloading scikit-posthocs-0.6.7.tar.gz (43 kB)\r\n",
      "\u001b[K     |████████████████████████████████| 43 kB 154 kB/s \r\n",
      "\u001b[?25h  Installing build dependencies ... \u001b[?25l-\b \b\\\b \b|\b \b/\b \b-\b \bdone\r\n",
      "\u001b[?25h  Getting requirements to build wheel ... \u001b[?25l-\b \bdone\r\n",
      "\u001b[?25h    Preparing wheel metadata ... \u001b[?25l-\b \bdone\r\n",
      "\u001b[?25hRequirement already satisfied: scipy in /opt/conda/lib/python3.7/site-packages (from scikit_posthocs) (1.5.4)\r\n",
      "Requirement already satisfied: pandas>=0.20.0 in /opt/conda/lib/python3.7/site-packages (from scikit_posthocs) (1.2.0)\r\n",
      "Requirement already satisfied: statsmodels in /opt/conda/lib/python3.7/site-packages (from scikit_posthocs) (0.12.1)\r\n",
      "Requirement already satisfied: numpy in /opt/conda/lib/python3.7/site-packages (from scikit_posthocs) (1.19.5)\r\n",
      "Requirement already satisfied: seaborn in /opt/conda/lib/python3.7/site-packages (from scikit_posthocs) (0.11.1)\r\n",
      "Requirement already satisfied: matplotlib in /opt/conda/lib/python3.7/site-packages (from scikit_posthocs) (3.3.3)\r\n",
      "Requirement already satisfied: python-dateutil>=2.7.3 in /opt/conda/lib/python3.7/site-packages (from pandas>=0.20.0->scikit_posthocs) (2.8.1)\r\n",
      "Requirement already satisfied: pytz>=2017.3 in /opt/conda/lib/python3.7/site-packages (from pandas>=0.20.0->scikit_posthocs) (2020.5)\r\n",
      "Requirement already satisfied: six>=1.5 in /opt/conda/lib/python3.7/site-packages (from python-dateutil>=2.7.3->pandas>=0.20.0->scikit_posthocs) (1.15.0)\r\n",
      "Requirement already satisfied: cycler>=0.10 in /opt/conda/lib/python3.7/site-packages (from matplotlib->scikit_posthocs) (0.10.0)\r\n",
      "Requirement already satisfied: kiwisolver>=1.0.1 in /opt/conda/lib/python3.7/site-packages (from matplotlib->scikit_posthocs) (1.3.1)\r\n",
      "Requirement already satisfied: pyparsing!=2.0.4,!=2.1.2,!=2.1.6,>=2.0.3 in /opt/conda/lib/python3.7/site-packages (from matplotlib->scikit_posthocs) (2.4.7)\r\n",
      "Requirement already satisfied: pillow>=6.2.0 in /opt/conda/lib/python3.7/site-packages (from matplotlib->scikit_posthocs) (7.2.0)\r\n",
      "Requirement already satisfied: patsy>=0.5 in /opt/conda/lib/python3.7/site-packages (from statsmodels->scikit_posthocs) (0.5.1)\r\n",
      "Building wheels for collected packages: scikit-posthocs\r\n",
      "  Building wheel for scikit-posthocs (PEP 517) ... \u001b[?25l-\b \bdone\r\n",
      "\u001b[?25h  Created wheel for scikit-posthocs: filename=scikit_posthocs-0.6.7-py3-none-any.whl size=37886 sha256=7f09e8bb144ed69a3c989bc75ec27aed2718980d5f4900731cb8db417f6f6146\r\n",
      "  Stored in directory: /root/.cache/pip/wheels/b8/21/e6/f39794d4a6ee3d3cc5146ca80b5cd949452ad4a8fde9f6b9fc\r\n",
      "Successfully built scikit-posthocs\r\n",
      "Installing collected packages: scikit-posthocs\r\n",
      "Successfully installed scikit-posthocs-0.6.7\r\n"
     ]
    }
   ],
   "source": [
    "!pip install scikit_posthocs\n",
    "import numpy as np\n",
    "import pandas as pd\n",
    "import matplotlib.pyplot as plt\n",
    "import statsmodels.api as sm\n",
    "import seaborn as sns\n",
    "import statistics\n",
    "from scipy import stats\n",
    "import math\n",
    "import scikit_posthocs as sp\n",
    "%matplotlib inline"
   ]
  },
  {
   "cell_type": "markdown",
   "metadata": {
    "papermill": {
     "duration": 0.103319,
     "end_time": "2021-03-31T13:19:31.218931",
     "exception": false,
     "start_time": "2021-03-31T13:19:31.115612",
     "status": "completed"
    },
    "tags": []
   },
   "source": [
    "My first hypothesis is to test if mean of comment likes of each community are same."
   ]
  },
  {
   "cell_type": "markdown",
   "metadata": {
    "papermill": {
     "duration": 0.106112,
     "end_time": "2021-03-31T13:19:31.432801",
     "exception": false,
     "start_time": "2021-03-31T13:19:31.326689",
     "status": "completed"
    },
    "tags": []
   },
   "source": [
    "H0: There is no difference between the average comment scores of ps4 and xboxone communities. (µ1 = µ2)\n",
    "\n",
    "Ha: There is a difference between the average comment scores of ps4 and xboxone communities. (µ1 != µ2)\n",
    "\n",
    "Significance level of tests are 0.05. To define the appropriate hypothesis testing, we need to understand these groups. They are not same samples on different conditions,they are independent, therefore we need an unpaired test.\n"
   ]
  },
  {
   "cell_type": "code",
   "execution_count": 50,
   "metadata": {
    "execution": {
     "iopub.execute_input": "2021-03-31T13:19:31.648443Z",
     "iopub.status.busy": "2021-03-31T13:19:31.647783Z",
     "iopub.status.idle": "2021-03-31T13:19:31.652779Z",
     "shell.execute_reply": "2021-03-31T13:19:31.653430Z"
    },
    "papermill": {
     "duration": 0.115907,
     "end_time": "2021-03-31T13:19:31.653827",
     "exception": false,
     "start_time": "2021-03-31T13:19:31.537920",
     "status": "completed"
    },
    "tags": []
   },
   "outputs": [
    {
     "data": {
      "text/plain": [
       "188.77297297297298"
      ]
     },
     "execution_count": 50,
     "metadata": {},
     "output_type": "execute_result"
    }
   ],
   "source": [
    "dfps[\"comment_score\"].mean()"
   ]
  },
  {
   "cell_type": "code",
   "execution_count": 51,
   "metadata": {
    "execution": {
     "iopub.execute_input": "2021-03-31T13:19:31.866895Z",
     "iopub.status.busy": "2021-03-31T13:19:31.866068Z",
     "iopub.status.idle": "2021-03-31T13:19:31.870412Z",
     "shell.execute_reply": "2021-03-31T13:19:31.870887Z"
    },
    "papermill": {
     "duration": 0.114922,
     "end_time": "2021-03-31T13:19:31.871067",
     "exception": false,
     "start_time": "2021-03-31T13:19:31.756145",
     "status": "completed"
    },
    "tags": []
   },
   "outputs": [
    {
     "data": {
      "text/plain": [
       "158.92144373673037"
      ]
     },
     "execution_count": 51,
     "metadata": {},
     "output_type": "execute_result"
    }
   ],
   "source": [
    "dfxbox[\"comment_score\"].mean()"
   ]
  },
  {
   "cell_type": "markdown",
   "metadata": {
    "papermill": {
     "duration": 0.104014,
     "end_time": "2021-03-31T13:19:32.079791",
     "exception": false,
     "start_time": "2021-03-31T13:19:31.975777",
     "status": "completed"
    },
    "tags": []
   },
   "source": [
    "### Statistical Tests"
   ]
  },
  {
   "cell_type": "markdown",
   "metadata": {
    "papermill": {
     "duration": 0.102968,
     "end_time": "2021-03-31T13:19:32.287401",
     "exception": false,
     "start_time": "2021-03-31T13:19:32.184433",
     "status": "completed"
    },
    "tags": []
   },
   "source": [
    "Assumptions:\n",
    "\n",
    "- normality\n",
    "- equal variances\n",
    "- independency"
   ]
  },
  {
   "cell_type": "markdown",
   "metadata": {
    "papermill": {
     "duration": 0.105835,
     "end_time": "2021-03-31T13:19:32.498878",
     "exception": false,
     "start_time": "2021-03-31T13:19:32.393043",
     "status": "completed"
    },
    "tags": []
   },
   "source": [
    "First we test the normality of the data.\n",
    "\n",
    "H0: Data is normally distributed\n",
    "\n",
    "Ha: Data is not normally distributed.\n"
   ]
  },
  {
   "cell_type": "code",
   "execution_count": 52,
   "metadata": {
    "execution": {
     "iopub.execute_input": "2021-03-31T13:19:32.716799Z",
     "iopub.status.busy": "2021-03-31T13:19:32.716083Z",
     "iopub.status.idle": "2021-03-31T13:19:32.722514Z",
     "shell.execute_reply": "2021-03-31T13:19:32.721355Z"
    },
    "papermill": {
     "duration": 0.11602,
     "end_time": "2021-03-31T13:19:32.722840",
     "exception": false,
     "start_time": "2021-03-31T13:19:32.606820",
     "status": "completed"
    },
    "scrolled": true,
    "tags": []
   },
   "outputs": [
    {
     "name": "stdout",
     "output_type": "stream",
     "text": [
      "P-value of Shapiro-Wilk test for ps community is: 1.233142648605839e-43\n",
      "P-value of Shapiro-Wilk test for xbox community is: 2.4712879327293176e-40\n"
     ]
    }
   ],
   "source": [
    "print(\"P-value of Shapiro-Wilk test for ps community is: {}\".format(stats.shapiro(dfps[\"comment_score\"])[1]))\n",
    "print(\"P-value of Shapiro-Wilk test for xbox community is: {}\".format(stats.shapiro(dfxbox[\"comment_score\"])[1]))"
   ]
  },
  {
   "cell_type": "markdown",
   "metadata": {
    "papermill": {
     "duration": 0.109114,
     "end_time": "2021-03-31T13:19:32.938567",
     "exception": false,
     "start_time": "2021-03-31T13:19:32.829453",
     "status": "completed"
    },
    "tags": []
   },
   "source": [
    "Shapiro-Wilk test indicates that these 2 data are not normally distributed."
   ]
  },
  {
   "cell_type": "code",
   "execution_count": 53,
   "metadata": {
    "execution": {
     "iopub.execute_input": "2021-03-31T13:19:33.167508Z",
     "iopub.status.busy": "2021-03-31T13:19:33.166500Z",
     "iopub.status.idle": "2021-03-31T13:19:33.365080Z",
     "shell.execute_reply": "2021-03-31T13:19:33.365846Z"
    },
    "papermill": {
     "duration": 0.317968,
     "end_time": "2021-03-31T13:19:33.366108",
     "exception": false,
     "start_time": "2021-03-31T13:19:33.048140",
     "status": "completed"
    },
    "tags": []
   },
   "outputs": [
    {
     "name": "stderr",
     "output_type": "stream",
     "text": [
      "/opt/conda/lib/python3.7/site-packages/seaborn/_core.py:1312: UserWarning: Horizontal orientation ignored with only `y` specified.\n",
      "  warnings.warn(single_var_warning.format(\"Horizontal\", \"y\"))\n"
     ]
    },
    {
     "data": {
      "image/png": "[encoded data removed]",
      "text/plain": [
       "<Figure size 432x288 with 1 Axes>"
      ]
     },
     "metadata": {
      "needs_background": "light"
     },
     "output_type": "display_data"
    }
   ],
   "source": [
    "f = sns.violinplot(y=dfxbox[\"comment_score\"], orient='h')"
   ]
  },
  {
   "cell_type": "code",
   "execution_count": 54,
   "metadata": {
    "execution": {
     "iopub.execute_input": "2021-03-31T13:19:33.634514Z",
     "iopub.status.busy": "2021-03-31T13:19:33.633843Z",
     "iopub.status.idle": "2021-03-31T13:19:33.786040Z",
     "shell.execute_reply": "2021-03-31T13:19:33.786513Z"
    },
    "papermill": {
     "duration": 0.279692,
     "end_time": "2021-03-31T13:19:33.786786",
     "exception": false,
     "start_time": "2021-03-31T13:19:33.507094",
     "status": "completed"
    },
    "tags": []
   },
   "outputs": [
    {
     "name": "stderr",
     "output_type": "stream",
     "text": [
      "/opt/conda/lib/python3.7/site-packages/seaborn/_core.py:1312: UserWarning: Horizontal orientation ignored with only `y` specified.\n",
      "  warnings.warn(single_var_warning.format(\"Horizontal\", \"y\"))\n"
     ]
    },
    {
     "data": {
      "image/png": "[encoded data removed]",
      "text/plain": [
       "<Figure size 432x288 with 1 Axes>"
      ]
     },
     "metadata": {
      "needs_background": "light"
     },
     "output_type": "display_data"
    }
   ],
   "source": [
    "f = sns.violinplot(y=dfps[\"comment_score\"], orient='h')"
   ]
  },
  {
   "cell_type": "markdown",
   "metadata": {
    "papermill": {
     "duration": 0.112854,
     "end_time": "2021-03-31T13:19:34.010425",
     "exception": false,
     "start_time": "2021-03-31T13:19:33.897571",
     "status": "completed"
    },
    "tags": []
   },
   "source": [
    "Then we apply levene test, to determine whether two or more groups have equal variances. I applied median as center since data is heavily skewed."
   ]
  },
  {
   "cell_type": "code",
   "execution_count": 55,
   "metadata": {
    "execution": {
     "iopub.execute_input": "2021-03-31T13:19:34.242392Z",
     "iopub.status.busy": "2021-03-31T13:19:34.241353Z",
     "iopub.status.idle": "2021-03-31T13:19:34.248368Z",
     "shell.execute_reply": "2021-03-31T13:19:34.247694Z"
    },
    "papermill": {
     "duration": 0.122084,
     "end_time": "2021-03-31T13:19:34.248525",
     "exception": false,
     "start_time": "2021-03-31T13:19:34.126441",
     "status": "completed"
    },
    "tags": []
   },
   "outputs": [
    {
     "data": {
      "text/plain": [
       "LeveneResult(statistic=0.2863043975726186, pvalue=0.5927147224118108)"
      ]
     },
     "execution_count": 55,
     "metadata": {},
     "output_type": "execute_result"
    }
   ],
   "source": [
    "stats.levene(dfps[\"comment_score\"] ,dfxbox[\"comment_score\"], center='median')"
   ]
  },
  {
   "cell_type": "markdown",
   "metadata": {
    "papermill": {
     "duration": 0.121024,
     "end_time": "2021-03-31T13:19:34.490659",
     "exception": false,
     "start_time": "2021-03-31T13:19:34.369635",
     "status": "completed"
    },
    "tags": []
   },
   "source": [
    "The p-value is not less than .05, thus, we would fail to reject the null hypothesis. We do not have sufficient evidence to say that the variance in these communities comment scores are significantly different.\n",
    "\n",
    "Since we have 2 not normally distibuted, unpaired data with equal variances, we can apply Mann Whitney U test for hypothesis testing.\n"
   ]
  },
  {
   "cell_type": "code",
   "execution_count": 56,
   "metadata": {
    "execution": {
     "iopub.execute_input": "2021-03-31T13:19:34.736847Z",
     "iopub.status.busy": "2021-03-31T13:19:34.734729Z",
     "iopub.status.idle": "2021-03-31T13:19:34.743613Z",
     "shell.execute_reply": "2021-03-31T13:19:34.742832Z"
    },
    "papermill": {
     "duration": 0.135714,
     "end_time": "2021-03-31T13:19:34.743804",
     "exception": false,
     "start_time": "2021-03-31T13:19:34.608090",
     "status": "completed"
    },
    "tags": []
   },
   "outputs": [
    {
     "data": {
      "text/plain": [
       "MannwhitneyuResult(statistic=125025.0, pvalue=0.11164217625259443)"
      ]
     },
     "execution_count": 56,
     "metadata": {},
     "output_type": "execute_result"
    }
   ],
   "source": [
    "stats.mannwhitneyu(x=dfps[\"comment_score\"], y=dfxbox[\"comment_score\"])"
   ]
  },
  {
   "cell_type": "markdown",
   "metadata": {
    "papermill": {
     "duration": 0.120309,
     "end_time": "2021-03-31T13:19:34.986156",
     "exception": false,
     "start_time": "2021-03-31T13:19:34.865847",
     "status": "completed"
    },
    "tags": []
   },
   "source": [
    "Result of Mann-Whitney U test indicates that, pvalue is higher than the significance level 0.05. Therefore, we don't have a strong evidence against null hypothesis. It means that there is not a significant difference between the average comment scores of these 2 communities."
   ]
  },
  {
   "cell_type": "markdown",
   "metadata": {
    "papermill": {
     "duration": 0.114533,
     "end_time": "2021-03-31T13:19:35.211282",
     "exception": false,
     "start_time": "2021-03-31T13:19:35.096749",
     "status": "completed"
    },
    "tags": []
   },
   "source": [
    "This can be interpreted as the interaction in comment section of both communities are similar."
   ]
  },
  {
   "cell_type": "markdown",
   "metadata": {
    "papermill": {
     "duration": 0.116206,
     "end_time": "2021-03-31T13:19:35.439346",
     "exception": false,
     "start_time": "2021-03-31T13:19:35.323140",
     "status": "completed"
    },
    "tags": []
   },
   "source": [
    "# Sentiment Analysis"
   ]
  },
  {
   "cell_type": "code",
   "execution_count": 57,
   "metadata": {
    "execution": {
     "iopub.execute_input": "2021-03-31T13:19:35.663102Z",
     "iopub.status.busy": "2021-03-31T13:19:35.662378Z",
     "iopub.status.idle": "2021-03-31T13:19:35.687441Z",
     "shell.execute_reply": "2021-03-31T13:19:35.687986Z"
    },
    "papermill": {
     "duration": 0.139926,
     "end_time": "2021-03-31T13:19:35.688236",
     "exception": false,
     "start_time": "2021-03-31T13:19:35.548310",
     "status": "completed"
    },
    "tags": []
   },
   "outputs": [],
   "source": [
    "from nltk.sentiment.vader import SentimentIntensityAnalyzer\n",
    "\n",
    "sentiment_analyzer = SentimentIntensityAnalyzer()"
   ]
  },
  {
   "cell_type": "code",
   "execution_count": 58,
   "metadata": {
    "execution": {
     "iopub.execute_input": "2021-03-31T13:19:35.914167Z",
     "iopub.status.busy": "2021-03-31T13:19:35.913436Z",
     "iopub.status.idle": "2021-03-31T13:19:35.930003Z",
     "shell.execute_reply": "2021-03-31T13:19:35.930624Z"
    },
    "papermill": {
     "duration": 0.133156,
     "end_time": "2021-03-31T13:19:35.930854",
     "exception": false,
     "start_time": "2021-03-31T13:19:35.797698",
     "status": "completed"
    },
    "tags": []
   },
   "outputs": [],
   "source": [
    "def analyze_sentiment(data, sentiment_analyzer=SentimentIntensityAnalyzer()):\n",
    "\n",
    "    sentences = data\n",
    "    \n",
    "    sentiments = [sentiment_analyzer.polarity_scores(sentence)[\"compound\"] for sentence in sentences \n",
    "                  if sentiment_analyzer.polarity_scores(sentence)[\"compound\"] != 0]\n",
    "    \n",
    "    # Returns the average compound sentiment score if a sentiment is detected.\n",
    "    if sentiments:\n",
    "        return sum(sentiments)/len(sentiments)\n",
    "    # Returns 0 if a sentiment is not detected:\n",
    "    else:\n",
    "        return 0"
   ]
  },
  {
   "cell_type": "code",
   "execution_count": 59,
   "metadata": {
    "execution": {
     "iopub.execute_input": "2021-03-31T13:19:36.163202Z",
     "iopub.status.busy": "2021-03-31T13:19:36.162501Z",
     "iopub.status.idle": "2021-03-31T13:19:37.088863Z",
     "shell.execute_reply": "2021-03-31T13:19:37.088125Z"
    },
    "papermill": {
     "duration": 1.043428,
     "end_time": "2021-03-31T13:19:37.089044",
     "exception": false,
     "start_time": "2021-03-31T13:19:36.045616",
     "status": "completed"
    },
    "tags": []
   },
   "outputs": [
    {
     "name": "stderr",
     "output_type": "stream",
     "text": [
      "/opt/conda/lib/python3.7/site-packages/ipykernel_launcher.py:1: SettingWithCopyWarning: \n",
      "A value is trying to be set on a copy of a slice from a DataFrame.\n",
      "Try using .loc[row_indexer,col_indexer] = value instead\n",
      "\n",
      "See the caveats in the documentation: https://pandas.pydata.org/pandas-docs/stable/user_guide/indexing.html#returning-a-view-versus-a-copy\n",
      "  \"\"\"Entry point for launching an IPython kernel.\n",
      "/opt/conda/lib/python3.7/site-packages/ipykernel_launcher.py:2: SettingWithCopyWarning: \n",
      "A value is trying to be set on a copy of a slice from a DataFrame.\n",
      "Try using .loc[row_indexer,col_indexer] = value instead\n",
      "\n",
      "See the caveats in the documentation: https://pandas.pydata.org/pandas-docs/stable/user_guide/indexing.html#returning-a-view-versus-a-copy\n",
      "  \n"
     ]
    },
    {
     "data": {
      "text/html": [
       "<div>\n",
       "<style scoped>\n",
       "    .dataframe tbody tr th:only-of-type {\n",
       "        vertical-align: middle;\n",
       "    }\n",
       "\n",
       "    .dataframe tbody tr th {\n",
       "        vertical-align: top;\n",
       "    }\n",
       "\n",
       "    .dataframe thead th {\n",
       "        text-align: right;\n",
       "    }\n",
       "</style>\n",
       "<table border=\"1\" class=\"dataframe\">\n",
       "  <thead>\n",
       "    <tr style=\"text-align: right;\">\n",
       "      <th></th>\n",
       "      <th>comment_id</th>\n",
       "      <th>comment_body</th>\n",
       "      <th>comment_score</th>\n",
       "      <th>unix_time</th>\n",
       "      <th>date</th>\n",
       "      <th>submission</th>\n",
       "      <th>subreddit</th>\n",
       "      <th>tokenized_sents</th>\n",
       "      <th>tokenized_postagged</th>\n",
       "      <th>lemmatized</th>\n",
       "      <th>sentiment</th>\n",
       "    </tr>\n",
       "  </thead>\n",
       "  <tbody>\n",
       "    <tr>\n",
       "      <th>1044</th>\n",
       "      <td>f1e6xkw</td>\n",
       "      <td>way ahead of you. stopped buying after blops-i...</td>\n",
       "      <td>2</td>\n",
       "      <td>1.569415e+09</td>\n",
       "      <td>2019-09-25 15:29:50</td>\n",
       "      <td>d8t3km</td>\n",
       "      <td>xboxone</td>\n",
       "      <td>[way, ahead, of, you, ., stopped, buying, afte...</td>\n",
       "      <td>[(way, NN), (ahead, RB), (of, IN), (you, PRP),...</td>\n",
       "      <td>[way, ahead, you, stop, buy, blops-it, the, ga...</td>\n",
       "      <td>-0.296000</td>\n",
       "    </tr>\n",
       "    <tr>\n",
       "      <th>1045</th>\n",
       "      <td>f1e81u9</td>\n",
       "      <td>gamers rise up i cant believe this oppression</td>\n",
       "      <td>2</td>\n",
       "      <td>1.569416e+09</td>\n",
       "      <td>2019-09-25 15:45:13</td>\n",
       "      <td>d8t3km</td>\n",
       "      <td>xboxone</td>\n",
       "      <td>[gamers, rise, up, i, cant, believe, this, opp...</td>\n",
       "      <td>[(gamers, NNS), (rise, VBP), (up, RP), (i, JJ)...</td>\n",
       "      <td>[gamers, rise, i, cant, believe, oppression]</td>\n",
       "      <td>0.000000</td>\n",
       "    </tr>\n",
       "    <tr>\n",
       "      <th>1046</th>\n",
       "      <td>f1e8f01</td>\n",
       "      <td>you get what you pay for supporting activision...</td>\n",
       "      <td>2</td>\n",
       "      <td>1.569416e+09</td>\n",
       "      <td>2019-09-25 15:50:06</td>\n",
       "      <td>d8t3km</td>\n",
       "      <td>xboxone</td>\n",
       "      <td>[you, get, what, you, pay, for, supporting, ac...</td>\n",
       "      <td>[(you, PRP), (get, VBP), (what, WP), (you, PRP...</td>\n",
       "      <td>[get, you, pay, support, activision, happen, d...</td>\n",
       "      <td>0.150383</td>\n",
       "    </tr>\n",
       "    <tr>\n",
       "      <th>1048</th>\n",
       "      <td>f1ee5eq</td>\n",
       "      <td>jesus this is the dweebiest headline ive ever...</td>\n",
       "      <td>2</td>\n",
       "      <td>1.569420e+09</td>\n",
       "      <td>2019-09-25 17:02:07</td>\n",
       "      <td>d8t3km</td>\n",
       "      <td>xboxone</td>\n",
       "      <td>[jesus, this, is, the, dweebiest, headline, i...</td>\n",
       "      <td>[(jesus, NN), (this, DT), (is, VBZ), (the, DT)...</td>\n",
       "      <td>[jesus, be, dweebiest, headline, ive, ever, see]</td>\n",
       "      <td>0.000000</td>\n",
       "    </tr>\n",
       "    <tr>\n",
       "      <th>1049</th>\n",
       "      <td>f1eeb1a</td>\n",
       "      <td>it should be at least 50 dollars for xbox owners.</td>\n",
       "      <td>2</td>\n",
       "      <td>1.569420e+09</td>\n",
       "      <td>2019-09-25 17:03:54</td>\n",
       "      <td>d8t3km</td>\n",
       "      <td>xboxone</td>\n",
       "      <td>[it, should, be, at, least, 50, dollars, for, ...</td>\n",
       "      <td>[(it, PRP), (should, MD), (be, VB), (at, IN), ...</td>\n",
       "      <td>[should, at, least, 50, dollar, xbox, owner]</td>\n",
       "      <td>0.000000</td>\n",
       "    </tr>\n",
       "  </tbody>\n",
       "</table>\n",
       "</div>"
      ],
      "text/plain": [
       "     comment_id                                       comment_body  \\\n",
       "1044    f1e6xkw  way ahead of you. stopped buying after blops-i...   \n",
       "1045    f1e81u9      gamers rise up i cant believe this oppression   \n",
       "1046    f1e8f01  you get what you pay for supporting activision...   \n",
       "1048    f1ee5eq  jesus this is the dweebiest headline ive ever...   \n",
       "1049    f1eeb1a  it should be at least 50 dollars for xbox owners.   \n",
       "\n",
       "      comment_score     unix_time                 date submission subreddit  \\\n",
       "1044              2  1.569415e+09  2019-09-25 15:29:50     d8t3km   xboxone   \n",
       "1045              2  1.569416e+09  2019-09-25 15:45:13     d8t3km   xboxone   \n",
       "1046              2  1.569416e+09  2019-09-25 15:50:06     d8t3km   xboxone   \n",
       "1048              2  1.569420e+09  2019-09-25 17:02:07     d8t3km   xboxone   \n",
       "1049              2  1.569420e+09  2019-09-25 17:03:54     d8t3km   xboxone   \n",
       "\n",
       "                                        tokenized_sents  \\\n",
       "1044  [way, ahead, of, you, ., stopped, buying, afte...   \n",
       "1045  [gamers, rise, up, i, cant, believe, this, opp...   \n",
       "1046  [you, get, what, you, pay, for, supporting, ac...   \n",
       "1048  [jesus, this, is, the, dweebiest, headline, i...   \n",
       "1049  [it, should, be, at, least, 50, dollars, for, ...   \n",
       "\n",
       "                                    tokenized_postagged  \\\n",
       "1044  [(way, NN), (ahead, RB), (of, IN), (you, PRP),...   \n",
       "1045  [(gamers, NNS), (rise, VBP), (up, RP), (i, JJ)...   \n",
       "1046  [(you, PRP), (get, VBP), (what, WP), (you, PRP...   \n",
       "1048  [(jesus, NN), (this, DT), (is, VBZ), (the, DT)...   \n",
       "1049  [(it, PRP), (should, MD), (be, VB), (at, IN), ...   \n",
       "\n",
       "                                             lemmatized  sentiment  \n",
       "1044  [way, ahead, you, stop, buy, blops-it, the, ga...  -0.296000  \n",
       "1045       [gamers, rise, i, cant, believe, oppression]   0.000000  \n",
       "1046  [get, you, pay, support, activision, happen, d...   0.150383  \n",
       "1048  [jesus, be, dweebiest, headline, ive, ever, see]   0.000000  \n",
       "1049       [should, at, least, 50, dollar, xbox, owner]   0.000000  "
      ]
     },
     "execution_count": 59,
     "metadata": {},
     "output_type": "execute_result"
    }
   ],
   "source": [
    "dfps[\"sentiment\"] = dfps[\"lemmatized\"].map(analyze_sentiment)\n",
    "dfxbox[\"sentiment\"] = dfxbox[\"lemmatized\"].map(analyze_sentiment)\n",
    "\n",
    "dfxbox.tail(5)"
   ]
  },
  {
   "cell_type": "code",
   "execution_count": 60,
   "metadata": {
    "execution": {
     "iopub.execute_input": "2021-03-31T13:19:37.346066Z",
     "iopub.status.busy": "2021-03-31T13:19:37.345207Z",
     "iopub.status.idle": "2021-03-31T13:19:37.351124Z",
     "shell.execute_reply": "2021-03-31T13:19:37.351658Z"
    },
    "papermill": {
     "duration": 0.13646,
     "end_time": "2021-03-31T13:19:37.351877",
     "exception": false,
     "start_time": "2021-03-31T13:19:37.215417",
     "status": "completed"
    },
    "tags": []
   },
   "outputs": [
    {
     "data": {
      "text/plain": [
       "0.0008459109392753517"
      ]
     },
     "execution_count": 60,
     "metadata": {},
     "output_type": "execute_result"
    }
   ],
   "source": [
    "dfxbox[\"sentiment\"].mean()"
   ]
  },
  {
   "cell_type": "code",
   "execution_count": 61,
   "metadata": {
    "execution": {
     "iopub.execute_input": "2021-03-31T13:19:37.606097Z",
     "iopub.status.busy": "2021-03-31T13:19:37.605338Z",
     "iopub.status.idle": "2021-03-31T13:19:37.611839Z",
     "shell.execute_reply": "2021-03-31T13:19:37.612341Z"
    },
    "papermill": {
     "duration": 0.135862,
     "end_time": "2021-03-31T13:19:37.612751",
     "exception": false,
     "start_time": "2021-03-31T13:19:37.476889",
     "status": "completed"
    },
    "tags": []
   },
   "outputs": [
    {
     "data": {
      "text/plain": [
       "0.07680714877470067"
      ]
     },
     "execution_count": 61,
     "metadata": {},
     "output_type": "execute_result"
    }
   ],
   "source": [
    "dfps[\"sentiment\"].mean()"
   ]
  },
  {
   "cell_type": "markdown",
   "metadata": {
    "papermill": {
     "duration": 0.122653,
     "end_time": "2021-03-31T13:19:37.857120",
     "exception": false,
     "start_time": "2021-03-31T13:19:37.734467",
     "status": "completed"
    },
    "tags": []
   },
   "source": [
    "# Hypothesis 2"
   ]
  },
  {
   "cell_type": "markdown",
   "metadata": {
    "papermill": {
     "duration": 0.120127,
     "end_time": "2021-03-31T13:19:38.098410",
     "exception": false,
     "start_time": "2021-03-31T13:19:37.978283",
     "status": "completed"
    },
    "tags": []
   },
   "source": [
    "After seeing frequency of word usages and wordclouds of each community, my second hypothesis is to test if mean of sentiment scores of PS community is higher. Since this is a one-tailed problem, for a given significance level in a two-tailed test for a test statistic(0.05), the corresponding one-tailed tests for the same test statistic will be considered either twice as significant (0.025) if the data is in the direction specified by the test."
   ]
  },
  {
   "cell_type": "markdown",
   "metadata": {
    "papermill": {
     "duration": 0.113113,
     "end_time": "2021-03-31T13:19:38.327966",
     "exception": false,
     "start_time": "2021-03-31T13:19:38.214853",
     "status": "completed"
    },
    "tags": []
   },
   "source": [
    "H0: The average sentiment scores of ps4 community is lower or equal to xboxone community. (µ1 =< µ2)\n",
    "\n",
    "Ha: The average sentiment scores of ps4 community is higher than xboxone community. (µ1 > µ2)\n",
    "\n",
    "The significance level of test is 0.025 since this is a one-tailed test. To define the appropriate hypothesis testing, we need to understand these groups. They are not same samples on different conditions,they are independent, therefore we need an unpaired test."
   ]
  },
  {
   "cell_type": "markdown",
   "metadata": {
    "papermill": {
     "duration": 0.118972,
     "end_time": "2021-03-31T13:19:38.561007",
     "exception": false,
     "start_time": "2021-03-31T13:19:38.442035",
     "status": "completed"
    },
    "tags": []
   },
   "source": [
    "### Statistical Tests "
   ]
  },
  {
   "cell_type": "markdown",
   "metadata": {
    "papermill": {
     "duration": 0.121805,
     "end_time": "2021-03-31T13:19:38.802052",
     "exception": false,
     "start_time": "2021-03-31T13:19:38.680247",
     "status": "completed"
    },
    "tags": []
   },
   "source": [
    "Assumptions:\n",
    "\n",
    "- normality\n",
    "- equal variances\n",
    "- independency"
   ]
  },
  {
   "cell_type": "markdown",
   "metadata": {
    "papermill": {
     "duration": 0.11962,
     "end_time": "2021-03-31T13:19:39.031624",
     "exception": false,
     "start_time": "2021-03-31T13:19:38.912004",
     "status": "completed"
    },
    "tags": []
   },
   "source": [
    "First, lets check the normality of these 2 distrubitions with using Shapiro-Wilk test."
   ]
  },
  {
   "cell_type": "code",
   "execution_count": 62,
   "metadata": {
    "execution": {
     "iopub.execute_input": "2021-03-31T13:19:39.260464Z",
     "iopub.status.busy": "2021-03-31T13:19:39.259602Z",
     "iopub.status.idle": "2021-03-31T13:19:39.268027Z",
     "shell.execute_reply": "2021-03-31T13:19:39.268566Z"
    },
    "papermill": {
     "duration": 0.123809,
     "end_time": "2021-03-31T13:19:39.268872",
     "exception": false,
     "start_time": "2021-03-31T13:19:39.145063",
     "status": "completed"
    },
    "tags": []
   },
   "outputs": [
    {
     "name": "stdout",
     "output_type": "stream",
     "text": [
      "P-value of Shapiro-Wilk test for ps community is: 1.666869073324584e-11\n",
      "P-value of Shapiro-Wilk test for xbox community is: 1.14622775981843e-06\n"
     ]
    }
   ],
   "source": [
    "print(\"P-value of Shapiro-Wilk test for ps community is: {}\".format(stats.shapiro(dfps[\"sentiment\"])[1]))\n",
    "print(\"P-value of Shapiro-Wilk test for xbox community is: {}\".format(stats.shapiro(dfxbox[\"sentiment\"])[1]))"
   ]
  },
  {
   "cell_type": "code",
   "execution_count": 63,
   "metadata": {
    "execution": {
     "iopub.execute_input": "2021-03-31T13:19:39.504406Z",
     "iopub.status.busy": "2021-03-31T13:19:39.503717Z",
     "iopub.status.idle": "2021-03-31T13:19:39.664475Z",
     "shell.execute_reply": "2021-03-31T13:19:39.665072Z"
    },
    "papermill": {
     "duration": 0.282032,
     "end_time": "2021-03-31T13:19:39.665270",
     "exception": false,
     "start_time": "2021-03-31T13:19:39.383238",
     "status": "completed"
    },
    "tags": []
   },
   "outputs": [
    {
     "name": "stderr",
     "output_type": "stream",
     "text": [
      "/opt/conda/lib/python3.7/site-packages/seaborn/_core.py:1312: UserWarning: Horizontal orientation ignored with only `y` specified.\n",
      "  warnings.warn(single_var_warning.format(\"Horizontal\", \"y\"))\n"
     ]
    },
    {
     "data": {
      "image/png": "[encoded data removed]",
      "text/plain": [
       "<Figure size 432x288 with 1 Axes>"
      ]
     },
     "metadata": {
      "needs_background": "light"
     },
     "output_type": "display_data"
    }
   ],
   "source": [
    "f = sns.violinplot(y=dfps[\"sentiment\"], orient='h')"
   ]
  },
  {
   "cell_type": "code",
   "execution_count": 64,
   "metadata": {
    "execution": {
     "iopub.execute_input": "2021-03-31T13:19:39.951954Z",
     "iopub.status.busy": "2021-03-31T13:19:39.951125Z",
     "iopub.status.idle": "2021-03-31T13:19:40.080508Z",
     "shell.execute_reply": "2021-03-31T13:19:40.081173Z"
    },
    "papermill": {
     "duration": 0.289694,
     "end_time": "2021-03-31T13:19:40.081374",
     "exception": false,
     "start_time": "2021-03-31T13:19:39.791680",
     "status": "completed"
    },
    "tags": []
   },
   "outputs": [
    {
     "name": "stderr",
     "output_type": "stream",
     "text": [
      "/opt/conda/lib/python3.7/site-packages/seaborn/_core.py:1312: UserWarning: Horizontal orientation ignored with only `y` specified.\n",
      "  warnings.warn(single_var_warning.format(\"Horizontal\", \"y\"))\n"
     ]
    },
    {
     "data": {
      "image/png": "[encoded data removed]",
      "text/plain": [
       "<Figure size 432x288 with 1 Axes>"
      ]
     },
     "metadata": {
      "needs_background": "light"
     },
     "output_type": "display_data"
    }
   ],
   "source": [
    "f = sns.violinplot(y=dfxbox[\"sentiment\"], orient='h')"
   ]
  },
  {
   "cell_type": "markdown",
   "metadata": {
    "papermill": {
     "duration": 0.175199,
     "end_time": "2021-03-31T13:19:40.382341",
     "exception": false,
     "start_time": "2021-03-31T13:19:40.207142",
     "status": "completed"
    },
    "tags": []
   },
   "source": [
    "Shapiro-Wilk test indicates that these 2 data are not normally distributed. Then we apply levene test, to determine whether two or more groups have equal variances."
   ]
  },
  {
   "cell_type": "code",
   "execution_count": 65,
   "metadata": {
    "execution": {
     "iopub.execute_input": "2021-03-31T13:19:40.638294Z",
     "iopub.status.busy": "2021-03-31T13:19:40.637592Z",
     "iopub.status.idle": "2021-03-31T13:19:40.643430Z",
     "shell.execute_reply": "2021-03-31T13:19:40.642865Z"
    },
    "papermill": {
     "duration": 0.138449,
     "end_time": "2021-03-31T13:19:40.643594",
     "exception": false,
     "start_time": "2021-03-31T13:19:40.505145",
     "status": "completed"
    },
    "tags": []
   },
   "outputs": [
    {
     "data": {
      "text/plain": [
       "LeveneResult(statistic=1.175242112072936, pvalue=0.2785819157246928)"
      ]
     },
     "execution_count": 65,
     "metadata": {},
     "output_type": "execute_result"
    }
   ],
   "source": [
    "stats.levene(dfps[\"sentiment\"] ,dfxbox[\"sentiment\"], center='median')"
   ]
  },
  {
   "cell_type": "markdown",
   "metadata": {
    "papermill": {
     "duration": 0.114444,
     "end_time": "2021-03-31T13:19:40.880475",
     "exception": false,
     "start_time": "2021-03-31T13:19:40.766031",
     "status": "completed"
    },
    "tags": []
   },
   "source": [
    "The p-value is not less than .05, thus, we would fail to reject the null hypothesis. We do not have sufficient evidence to say that the variance in these communities comment scores are significantly different.\n",
    "\n",
    "Since we have 2 not normally distibuted, unpaired data with equal variances, we can apply Mann Whitney U test for hypothesis testing.\n"
   ]
  },
  {
   "cell_type": "code",
   "execution_count": 66,
   "metadata": {
    "execution": {
     "iopub.execute_input": "2021-03-31T13:19:41.124631Z",
     "iopub.status.busy": "2021-03-31T13:19:41.123903Z",
     "iopub.status.idle": "2021-03-31T13:19:41.130301Z",
     "shell.execute_reply": "2021-03-31T13:19:41.129613Z"
    },
    "papermill": {
     "duration": 0.125425,
     "end_time": "2021-03-31T13:19:41.130451",
     "exception": false,
     "start_time": "2021-03-31T13:19:41.005026",
     "status": "completed"
    },
    "tags": []
   },
   "outputs": [
    {
     "data": {
      "text/plain": [
       "MannwhitneyuResult(statistic=109794.5, pvalue=4.800397010063829e-06)"
      ]
     },
     "execution_count": 66,
     "metadata": {},
     "output_type": "execute_result"
    }
   ],
   "source": [
    "stats.mannwhitneyu(x=dfps[\"sentiment\"], y=dfxbox[\"sentiment\"])"
   ]
  },
  {
   "cell_type": "markdown",
   "metadata": {
    "papermill": {
     "duration": 0.127043,
     "end_time": "2021-03-31T13:19:41.380023",
     "exception": false,
     "start_time": "2021-03-31T13:19:41.252980",
     "status": "completed"
    },
    "tags": []
   },
   "source": [
    "Result of Mann-Whitney U test indicates that, pvalue is lower than the significance level 0.025. Therefore, we have a strong evidence against null hypothesis. It means that PS4 community sentiment scores are significantly higher than sentiment scores of XboxOne community."
   ]
  },
  {
   "cell_type": "markdown",
   "metadata": {
    "papermill": {
     "duration": 0.116734,
     "end_time": "2021-03-31T13:19:41.623450",
     "exception": false,
     "start_time": "2021-03-31T13:19:41.506716",
     "status": "completed"
    },
    "tags": []
   },
   "source": [
    "This result can be interpreted as PS4 community is more happy or display less negativity towards its community or the product. It was also visible from wordcloud images that are derived from most frequent word usages. Xbox community use more abusive words gave me a hint to test this hypothesis."
   ]
  },
  {
   "cell_type": "markdown",
   "metadata": {
    "papermill": {
     "duration": 0.119391,
     "end_time": "2021-03-31T13:19:41.858096",
     "exception": false,
     "start_time": "2021-03-31T13:19:41.738705",
     "status": "completed"
    },
    "tags": []
   },
   "source": [
    "Even though this result proved my hypothesis, I know that my data collection method is very sufficient and probably biased. Also, the techniques that I used in preprocessing and sentiment analysis steps were not sufficient to draw strong conclusions about this issue. However, I believe that this work might giva a hint to people who want to investigate behaviors of these 2 rival communities in social media context."
   ]
  },
  {
   "cell_type": "code",
   "execution_count": null,
   "metadata": {
    "papermill": {
     "duration": 0.121467,
     "end_time": "2021-03-31T13:19:42.096453",
     "exception": false,
     "start_time": "2021-03-31T13:19:41.974986",
     "status": "completed"
    },
    "tags": []
   },
   "outputs": [],
   "source": []
  }
 ],
 "metadata": {
  "kernelspec": {
   "display_name": "Python 3",
   "language": "python",
   "name": "python3"
  },
  "language_info": {
   "codemirror_mode": {
    "name": "ipython",
    "version": 3
   },
   "file_extension": ".py",
   "mimetype": "text/x-python",
   "name": "python",
   "nbconvert_exporter": "python",
   "pygments_lexer": "ipython3",
   "version": "3.7.9"
  },
  "papermill": {
   "default_parameters": {},
   "duration": 105.330293,
   "end_time": "2021-03-31T13:19:44.505190",
   "environment_variables": {},
   "exception": null,
   "input_path": "__notebook__.ipynb",
   "output_path": "__notebook__.ipynb",
   "parameters": {},
   "start_time": "2021-03-31T13:17:59.174897",
   "version": "2.2.2"
  }
 },
 "nbformat": 4,
 "nbformat_minor": 4
}
